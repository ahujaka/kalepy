{
 "cells": [
  {
   "cell_type": "markdown",
   "metadata": {},
   "source": [
    "# Initialization"
   ]
  },
  {
   "cell_type": "code",
   "execution_count": null,
   "metadata": {},
   "outputs": [],
   "source": [
    "# %load init.ipy\n",
    "%reload_ext autoreload\n",
    "%autoreload 2\n",
    "\n",
    "# %load init.ipy\n",
    "import os, sys, logging, datetime, warnings, shutil\n",
    "from importlib import reload\n",
    "\n",
    "import numpy as np\n",
    "import scipy as sp\n",
    "import scipy.stats\n",
    "import matplotlib as mpl\n",
    "import matplotlib.pyplot as plt\n",
    "from nose import tools\n",
    "\n",
    "import tqdm\n",
    "import memory_profiler as mpro\n",
    "\n",
    "import kalepy as kale\n",
    "import kalepy.utils\n",
    "import kalepy.plot\n",
    "from kalepy.plot import nbshow   # NOTE: this should be upgraded to `plot_control`\n",
    "from kalepy.plot import plot_control\n",
    "\n",
    "def _save_fig(fig, fname, **kwargs):\n",
    "    kwargs.setdefault('path', kale._PATH_NB_OUT)\n",
    "    kwargs.setdefault('rename', True)\n",
    "    return kale.plot._save_fig(fig, fname, **kwargs)\n",
    "    \n",
    "save_fig = _save_fig"
   ]
  },
  {
   "cell_type": "code",
   "execution_count": null,
   "metadata": {},
   "outputs": [],
   "source": [
    "def save_fig(fig, fname, **kwargs):\n",
    "    kwargs.setdefault('subdir', 'plotting')\n",
    "    return _save_fig(fig, fname, **kwargs)"
   ]
  },
  {
   "cell_type": "code",
   "execution_count": null,
   "metadata": {
    "init_cell": true
   },
   "outputs": [
    {
     "ename": "AttributeError",
     "evalue": "module 'kalepy' has no attribute 'kde'",
     "output_type": "error",
     "traceback": [
      "\u001b[0;31m---------------------------------------------------------------------------\u001b[0m",
      "\u001b[0;31mAttributeError\u001b[0m                            Traceback (most recent call last)",
      "\u001b[0;32m<ipython-input-24-66d74b3fdb6b>\u001b[0m in \u001b[0;36m<module>\u001b[0;34m\u001b[0m\n\u001b[1;32m      1\u001b[0m \u001b[0;32mimport\u001b[0m \u001b[0mkalepy\u001b[0m \u001b[0;32mas\u001b[0m \u001b[0mkale\u001b[0m\u001b[0;34m\u001b[0m\u001b[0;34m\u001b[0m\u001b[0m\n\u001b[1;32m      2\u001b[0m \u001b[0;34m\u001b[0m\u001b[0m\n\u001b[0;32m----> 3\u001b[0;31m \u001b[0mreload\u001b[0m\u001b[0;34m(\u001b[0m\u001b[0mkale\u001b[0m\u001b[0;34m.\u001b[0m\u001b[0mkde\u001b[0m\u001b[0;34m)\u001b[0m\u001b[0;34m\u001b[0m\u001b[0;34m\u001b[0m\u001b[0m\n\u001b[0m\u001b[1;32m      4\u001b[0m \u001b[0mreload\u001b[0m\u001b[0;34m(\u001b[0m\u001b[0mkale\u001b[0m\u001b[0;34m.\u001b[0m\u001b[0mkernels\u001b[0m\u001b[0;34m)\u001b[0m\u001b[0;34m\u001b[0m\u001b[0;34m\u001b[0m\u001b[0m\n\u001b[1;32m      5\u001b[0m \u001b[0mreload\u001b[0m\u001b[0;34m(\u001b[0m\u001b[0mkale\u001b[0m\u001b[0;34m.\u001b[0m\u001b[0mutils\u001b[0m\u001b[0;34m)\u001b[0m\u001b[0;34m\u001b[0m\u001b[0;34m\u001b[0m\u001b[0m\n",
      "\u001b[0;31mAttributeError\u001b[0m: module 'kalepy' has no attribute 'kde'"
     ]
    }
   ],
   "source": [
    "import kalepy as kale\n",
    "\n",
    "reload(kale.kde)\n",
    "reload(kale.kernels)\n",
    "reload(kale.utils)\n",
    "reload(kale.plot)\n",
    "reload(kale)"
   ]
  },
  {
   "cell_type": "markdown",
   "metadata": {},
   "source": [
    "# Generate Random Data"
   ]
  },
  {
   "cell_type": "code",
   "execution_count": null,
   "metadata": {},
   "outputs": [],
   "source": [
    "NUM = 3000\n",
    "# bandwidth = 0.2\n",
    "\n",
    "labels = 'ABC'\n",
    "sigma = [1.0, 0.2, 1.5]\n",
    "corr = [\n",
    "    [+1.0, +0.8, +0.4],\n",
    "    [+0.8, +1.0, -0.5],\n",
    "    [+0.2, -0.5, +1.0]\n",
    "]\n",
    "\n",
    "s2 = np.square(sigma)\n",
    "\n",
    "cov = np.zeros_like(corr)\n",
    "for (ii, jj), cc in np.ndenumerate(corr):\n",
    "    cov[ii, jj] = cc * sigma[ii] * sigma[jj]\n",
    "\n",
    "data = np.random.multivariate_normal(np.zeros_like(sigma), cov, NUM).T\n",
    "dd = data[1, :]\n",
    "dd = (dd - dd.min())/dd.max()\n",
    "data *= np.sqrt(dd)[np.newaxis, :]\n",
    "\n",
    "pc = 0\n",
    "extr = [np.percentile(dd, [0+pc, 100-pc]) for dd in data]\n",
    "noise = [np.random.uniform(*ex, NUM//5) for ex in extr]\n",
    "data = np.append(data, noise, axis=1)"
   ]
  },
  {
   "cell_type": "markdown",
   "metadata": {},
   "source": [
    "# Corner / Pair Plot"
   ]
  },
  {
   "cell_type": "code",
   "execution_count": null,
   "metadata": {},
   "outputs": [],
   "source": [
    "reload(kalepy.plot)\n",
    "reload(kalepy.utils)\n",
    "\n",
    "# kernel = 'parabola'\n",
    "kernel = 'gaussian'\n",
    "weights = np.square(data[-1, :])\n",
    "weights /= weights.max()\n",
    "print(kale.utils.stats_str(weights))\n",
    "weights = None\n",
    "kde = kale.KDE(data, kernel=kernel, weights=weights)\n",
    "\n",
    "corner = kale.plot.Corner(kde, figsize=[10, 10], labels=labels)\n",
    "\n",
    "corner.plot(rotate=False, kde_kwargs=dict(color='r'), data_kwargs=dict(color='b'))\n",
    "\n",
    "nbshow()\n",
    "fname = 'corner.png'\n",
    "save_fig(corner.fig, fname)"
   ]
  },
  {
   "cell_type": "markdown",
   "metadata": {},
   "source": [
    "# Compare Data to KDE"
   ]
  },
  {
   "cell_type": "markdown",
   "metadata": {},
   "source": [
    "## 1D Distributions"
   ]
  },
  {
   "cell_type": "code",
   "execution_count": null,
   "metadata": {},
   "outputs": [],
   "source": [
    "reload(kalepy.plot)\n",
    "reload(kalepy.utils)\n",
    "\n",
    "fig, axes = plt.subplots(figsize=[15, 8], ncols=3, nrows=2)\n",
    "plt.subplots_adjust(wspace=0.25, hspace=0.25)\n",
    "colors = ['k', 'r', 'b']\n",
    "\n",
    "kernel = 'parabola'\n",
    "# kernel = 'gaussian'\n",
    "kde = kale.KDE(data, kernel=kernel)\n",
    "\n",
    "yextr = None\n",
    "for kk, ax_col in enumerate(axes.T):\n",
    "    color = colors[kk]\n",
    "    \n",
    "    ax = ax_col[0]\n",
    "    ax.set(xlabel=labels[kk])\n",
    "    kale.plot.dist1d_kde(ax, kde, param=kk, color=color)\n",
    "\n",
    "    ax = ax_col[1]\n",
    "    ax.set(xlabel=labels[jj], ylabel=labels[ii])\n",
    "    kale.plot.dist1d_data(ax, data=data[kk], color=color)\n",
    "    \n",
    "\n",
    "    extr = [None, None]\n",
    "    for ax in ax_col:\n",
    "        for ii, get_func in enumerate([ax.get_xlim, ax.get_ylim]):\n",
    "            extr[ii] = kale.utils.minmax(get_func(), prev=extr[ii])\n",
    "        \n",
    "    for ax in ax_col:\n",
    "        for ii, set_func in enumerate([ax.set_xlim, ax.set_ylim]):\n",
    "            set_func(extr[ii])\n",
    "\n",
    "nbshow()\n",
    "fname = 'compare-1d.png'\n",
    "save_fig(fig, fname)"
   ]
  },
  {
   "cell_type": "markdown",
   "metadata": {},
   "source": [
    "## 2D Distributions"
   ]
  },
  {
   "cell_type": "code",
   "execution_count": null,
   "metadata": {},
   "outputs": [],
   "source": [
    "reload(kalepy.plot)\n",
    "reload(kalepy.utils)\n",
    "\n",
    "fig, axes = plt.subplots(figsize=[15, 8], ncols=3, nrows=2)\n",
    "plt.subplots_adjust(wspace=0.25, hspace=0.25)\n",
    "colors = ['k', 'r', 'b']\n",
    "\n",
    "kernel = 'parabola'\n",
    "# kernel = 'gaussian'\n",
    "kde = kale.KDE(data, kernel=kernel)\n",
    "\n",
    "for kk, ax_col in enumerate(axes.T):\n",
    "    color = colors[kk]\n",
    "    jj = (kk + 1) % 3\n",
    "    ii = (kk + 2) % 3\n",
    "    jj, ii = np.sort([jj, ii])\n",
    "\n",
    "    ax = ax_col[0]\n",
    "    ax.set(xlabel=labels[jj], ylabel=labels[ii])\n",
    "    kale.plot.dist2d_kde(ax, kde, params=[jj, ii], color=color)\n",
    "\n",
    "    ax = ax_col[1]\n",
    "    ax.set(xlabel=labels[jj], ylabel=labels[ii])\n",
    "    kale.plot.dist2d_data(ax, data=[data[jj], data[ii]], color=color)\n",
    "    \n",
    "    extr = [None, None]\n",
    "    for ax in ax_col:\n",
    "        for ii, get_func in enumerate([ax.get_xlim, ax.get_ylim]):\n",
    "            extr[ii] = kale.utils.minmax(get_func(), prev=extr[ii])\n",
    "\n",
    "    for ax in ax_col:\n",
    "        for ii, set_func in enumerate([ax.set_xlim, ax.set_ylim]):\n",
    "            set_func(extr[ii])\n",
    "            \n",
    "nbshow()\n",
    "fname = 'compare-2d.png'\n",
    "save_fig(fig, fname)"
   ]
  },
  {
   "cell_type": "markdown",
   "metadata": {},
   "source": [
    "# Data"
   ]
  },
  {
   "cell_type": "markdown",
   "metadata": {},
   "source": [
    "## Full Corner Plot"
   ]
  },
  {
   "cell_type": "code",
   "execution_count": null,
   "metadata": {},
   "outputs": [],
   "source": [
    "reload(kalepy.plot)\n",
    "reload(kalepy.utils)\n",
    "\n",
    "corner = kale.plot.Corner(data, figsize=[10, 10], labels=labels)\n",
    "\n",
    "edges = None\n",
    "scatter = True\n",
    "# scatter = False\n",
    "smap = dict(log=True)\n",
    "hist1d = dict(joints=False)\n",
    "hist2d = dict()\n",
    "# hist2d = False\n",
    "contour = dict(linewidths=2.0)\n",
    "# contour = False\n",
    "\n",
    "corner.plot_data(color='r', edges=edges, mask_dense=False, mask_sparse=False,\n",
    "                 scatter=scatter, smap=smap, hist1d=hist1d, hist2d=hist2d, contour=contour)\n",
    "\n",
    "nbshow()\n",
    "fname = 'corner-test-data.png'\n",
    "save_fig(corner.fig, fname)"
   ]
  },
  {
   "cell_type": "markdown",
   "metadata": {},
   "source": [
    "## 1D Distributions"
   ]
  },
  {
   "cell_type": "code",
   "execution_count": null,
   "metadata": {},
   "outputs": [],
   "source": [
    "reload(kalepy.plot)\n",
    "reload(kalepy.utils)\n",
    "\n",
    "fig, axes = plt.subplots(figsize=[15, 4], ncols=3)\n",
    "plt.subplots_adjust(wspace=0.25)\n",
    "colors = ['k', 'r', 'b']\n",
    "\n",
    "for kk, ax in enumerate(axes):\n",
    "    ax.grid(True, alpha=0.2)\n",
    "    col = colors[kk]\n",
    "    ax.set(xlabel=labels[kk])  \n",
    "    kale.plot.dist1d_data(ax, data=data[kk], color=col)\n",
    "\n",
    "nbshow()\n",
    "fname = 'corner-test-data-1d.png'\n",
    "save_fig(fig, fname)"
   ]
  },
  {
   "cell_type": "markdown",
   "metadata": {},
   "source": [
    "## 2D Distributions"
   ]
  },
  {
   "cell_type": "code",
   "execution_count": null,
   "metadata": {},
   "outputs": [],
   "source": [
    "reload(kalepy.plot)\n",
    "reload(kalepy.utils)\n",
    "\n",
    "fig, axes = plt.subplots(figsize=[15, 4], ncols=3)\n",
    "plt.subplots_adjust(wspace=0.25)\n",
    "colors = ['k', 'r', 'b']\n",
    "\n",
    "for kk, ax in enumerate(axes):\n",
    "    col = colors[kk]\n",
    "    jj = (kk + 1) % 3\n",
    "    ii = (kk + 2) % 3\n",
    "    jj, ii = np.sort([jj, ii])\n",
    "    td = [data[jj], data[ii]]\n",
    "    ax.set(xlabel=labels[jj], ylabel=labels[ii])\n",
    "    \n",
    "    kale.plot.dist2d_data(ax, data=td, color=col,\n",
    "                            mask_dense=True, mask_sparse=True, hist2d=True, density=True)\n",
    "\n",
    "nbshow()\n",
    "fname = 'corner-test-data-2d.png'\n",
    "save_fig(fig, fname)"
   ]
  },
  {
   "cell_type": "markdown",
   "metadata": {},
   "source": [
    "# KDEs"
   ]
  },
  {
   "cell_type": "markdown",
   "metadata": {},
   "source": [
    "## Full Corner Plot"
   ]
  },
  {
   "cell_type": "code",
   "execution_count": null,
   "metadata": {},
   "outputs": [],
   "source": [
    "reload(kalepy.plot)\n",
    "reload(kalepy.utils)\n",
    "\n",
    "kernel = 'parabola'\n",
    "# kernel = 'gaussian'\n",
    "kde = kale.KDE(data, kernel=kernel)\n",
    "corner = kale.plot.Corner(kde, figsize=[10, 10], labels=labels)\n",
    "corner.plot_kde()\n",
    "\n",
    "nbshow()"
   ]
  },
  {
   "cell_type": "markdown",
   "metadata": {},
   "source": [
    "## 1D Distributions"
   ]
  },
  {
   "cell_type": "code",
   "execution_count": null,
   "metadata": {},
   "outputs": [],
   "source": [
    "reload(kalepy.plot)\n",
    "reload(kalepy.utils)\n",
    "\n",
    "fig, axes = plt.subplots(figsize=[15, 4], ncols=3)\n",
    "plt.subplots_adjust(wspace=0.25)\n",
    "colors = ['k', 'r', 'b']\n",
    "\n",
    "kde = kale.KDE(data)\n",
    "\n",
    "for kk, ax in enumerate(axes):\n",
    "    ax.grid(True, alpha=0.2)\n",
    "    col = colors[kk]\n",
    "    ax.set(xlabel=labels[kk]) \n",
    "    kale.plot.dist1d_kde(ax, kde, param=kk, color=col)\n",
    "\n",
    "nbshow()\n",
    "fname = 'corner-test-kde-1d.png'\n",
    "save_fig(fig, fname)"
   ]
  },
  {
   "cell_type": "markdown",
   "metadata": {},
   "source": [
    "## 2D Distributions"
   ]
  },
  {
   "cell_type": "code",
   "execution_count": null,
   "metadata": {},
   "outputs": [],
   "source": [
    "reload(kalepy.plot)\n",
    "reload(kalepy.utils)\n",
    "\n",
    "fig, axes = plt.subplots(figsize=[15, 4], ncols=3)\n",
    "plt.subplots_adjust(wspace=0.25)\n",
    "colors = ['k', 'r', 'b']\n",
    "\n",
    "kernel = 'parabola'\n",
    "# kernel = 'gaussian'\n",
    "kde = kale.KDE(data, kernel=kernel)\n",
    "\n",
    "for kk, ax in enumerate(axes):\n",
    "    col = colors[kk]\n",
    "    jj = (kk + 1) % 3\n",
    "    ii = (kk + 2) % 3\n",
    "    params = np.sort([jj, ii])\n",
    "    ax.set(xlabel=labels[jj], ylabel=labels[ii])\n",
    "    \n",
    "    kale.plot.dist2d_kde(ax, kde, params=params, color=col)\n",
    "    \n",
    "nbshow()\n",
    "fname = 'corner-test-kde-2d.png'\n",
    "save_fig(fig, fname)"
   ]
  },
  {
   "cell_type": "markdown",
   "metadata": {},
   "source": [
    "# Other"
   ]
  },
  {
   "cell_type": "markdown",
   "metadata": {},
   "source": [
    "## Weighted Data"
   ]
  },
  {
   "cell_type": "code",
   "execution_count": null,
   "metadata": {},
   "outputs": [],
   "source": [
    "reload(kalepy)\n",
    "reload(kalepy.kde)\n",
    "reload(kalepy.plot)\n",
    "reload(kalepy.utils)\n",
    "kw = dict(lw=2.0, alpha=0.5)\n",
    "\n",
    "xx = np.random.normal(size=1000)\n",
    "yy = 100*np.fabs(xx)\n",
    "\n",
    "ax = plt.gca()\n",
    "ax.hist(xx, weights=yy, density=True, histtype='step', color='b', **kw)\n",
    "# ax.hist(xx, density=True, histtype='step', color='b', ls='--', **kw)\n",
    "\n",
    "kde = kale.KDE(xx, kernel='gaussian', weights=yy)\n",
    "edges = kde.points\n",
    "pdf = kde.pdf(edges)[1]\n",
    "ax.plot(edges, pdf, **kw)\n",
    "kale.plot.dist1d_kde(ax, kde, ls='--', contour=False, **kw)\n",
    "kale.plot.dist1d_data(ax, data=xx, weights=yy, contour=False, color='r')\n",
    "\n",
    "nbshow()\n"
   ]
  }
 ],
 "metadata": {
  "celltoolbar": "Initialization Cell",
  "kernelspec": {
   "display_name": "Python 3",
   "language": "python",
   "name": "python3"
  },
  "language_info": {
   "codemirror_mode": {
    "name": "ipython",
    "version": 3
   },
   "file_extension": ".py",
   "mimetype": "text/x-python",
   "name": "python",
   "nbconvert_exporter": "python",
   "pygments_lexer": "ipython3",
   "version": "3.7.7"
  },
  "toc": {
   "base_numbering": 1,
   "nav_menu": {},
   "number_sections": true,
   "sideBar": true,
   "skip_h1_title": false,
   "title_cell": "Table of Contents",
   "title_sidebar": "Contents",
   "toc_cell": false,
   "toc_position": {
    "height": "calc(100% - 180px)",
    "left": "10px",
    "top": "150px",
    "width": "165px"
   },
   "toc_section_display": true,
   "toc_window_display": true
  },
  "varInspector": {
   "cols": {
    "lenName": 16,
    "lenType": 16,
    "lenVar": 40
   },
   "kernels_config": {
    "python": {
     "delete_cmd_postfix": "",
     "delete_cmd_prefix": "del ",
     "library": "var_list.py",
     "varRefreshCmd": "print(var_dic_list())"
    },
    "r": {
     "delete_cmd_postfix": ") ",
     "delete_cmd_prefix": "rm(",
     "library": "var_list.r",
     "varRefreshCmd": "cat(var_dic_list()) "
    }
   },
   "types_to_exclude": [
    "module",
    "function",
    "builtin_function_or_method",
    "instance",
    "_Feature"
   ],
   "window_display": false
  }
 },
 "nbformat": 4,
 "nbformat_minor": 4
}
