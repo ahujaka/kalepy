{
 "cells": [
  {
   "cell_type": "code",
   "execution_count": null,
   "metadata": {},
   "outputs": [],
   "source": [
    "# NOTE: This is for when the notebook is converted to a python script\n",
    "# NOTE: Must come before everything else\n",
    "def get_ipython():\n",
    "    return type('Dummy', (object,), dict(run_line_magic=lambda *args, **kwargs: None))\n",
    "\n",
    "%reload_ext autoreload\n",
    "%autoreload 2\n",
    "from importlib import reload\n",
    "\n",
    "import matplotlib.pyplot as plt\n",
    "import matplotlib as mpl\n",
    "\n",
    "mpl.rc('font', **{'family': 'serif', 'sans-serif': ['Times'], 'size': 12})\n",
    "mpl.rc('lines', solid_capstyle='round')\n",
    "mpl.rc('mathtext', fontset='cm')\n",
    "mpl.rc('figure', figsize=[8, 4])\n",
    "plt.rc('axes', grid=True)\n",
    "plt.rcParams.update({'grid.alpha': 0.25})\n"
   ]
  },
  {
   "cell_type": "code",
   "execution_count": null,
   "metadata": {
    "init_cell": true
   },
   "outputs": [],
   "source": [
    "import kalepy as kale\n",
    "kale._reload()"
   ]
  },
  {
   "cell_type": "code",
   "execution_count": null,
   "metadata": {},
   "outputs": [],
   "source": [
    "import numpy as np\n",
    "import matplotlib.pyplot as plt\n",
    "import matplotlib as mpl\n",
    "\n",
    "import kalepy as kale\n",
    "\n",
    "from kalepy.plot import nbshow"
   ]
  },
  {
   "cell_type": "code",
   "execution_count": null,
   "metadata": {},
   "outputs": [],
   "source": [
    "NUM = 1000\n",
    "NOISE_FRAC = 0.4\n",
    "\n",
    "sigma = [1.0, 0.1]\n",
    "corr = [\n",
    "    [+1.0, +0.5],\n",
    "    [+0.5, +1.0],\n",
    "]\n",
    "\n",
    "cov = np.zeros_like(corr)\n",
    "for (ii, jj), cc in np.ndenumerate(corr):\n",
    "    cov[ii, jj] = cc * sigma[ii] * sigma[jj]\n",
    "\n",
    "data = np.random.multivariate_normal(np.zeros_like(sigma), cov, NUM).T\n",
    "sub = int(NOISE_FRAC*NUM)\n",
    "idx = np.random.choice(NUM, sub, replace=False)\n",
    "temp = np.random.multivariate_normal(\n",
    "    np.mean(data, axis=-1), np.diag(sigma), size=sub)\n",
    "data.T[idx, :] = temp\n",
    "\n",
    "plt.scatter(*data, alpha=0.1)\n",
    "nbshow()"
   ]
  },
  {
   "cell_type": "markdown",
   "metadata": {},
   "source": [
    "# Top-Level API"
   ]
  },
  {
   "cell_type": "markdown",
   "metadata": {},
   "source": [
    "## `kalepy.density`"
   ]
  },
  {
   "cell_type": "code",
   "execution_count": null,
   "metadata": {},
   "outputs": [],
   "source": [
    "def check_grid_shapes(pnts, vals, data):\n",
    "\n",
    "    # Default behavior for N>1 dimensions should be 'grid' densities\n",
    "    print(\"Input data has shape: {}, returned pnts: {}, vals: {}\".format(\n",
    "        *[np.shape(xx) for xx in [data, pnts, vals]]))\n",
    "\n",
    "    # Make sure the shapes of points and values match\n",
    "    if np.shape(pnts)[0] != 2:\n",
    "        raise ValueError(\"`pnts` (shape: {}) should have length 2!\".format(np.shape(pnts)))\n",
    "\n",
    "    shape = np.shape(vals)\n",
    "    psh = tuple([len(pp) for pp in pnts])\n",
    "    print(\"Number of points in each dim: {}\".format(psh))\n",
    "    # Shape of `vals` should match the combined dimensions of `pnts`\n",
    "    if shape != psh:\n",
    "        raise ValueError(\"Shape of density '{}' does not match points '{}'!\".format(shape, psh))\n",
    "\n",
    "    # If the relative-density of the input data are very different, then the length of points in\n",
    "    #   each dimension should also be different\n",
    "    frac_var = [kale.utils.iqrange(dd)/np.subtract(*kale.utils.minmax(dd)[::-1]) for dd in data]\n",
    "    frac_var = np.array(frac_var)\n",
    "    print(\"Data iqr/span : \", frac_var)\n",
    "    '''\n",
    "    if not np.isclose(*stds, rtol=0.1, atol=0.0) and np.equal(*psh):\n",
    "        raise ValueError(\"`pnts` have the same number of elements in each dimension!\")\n",
    "    '''\n",
    "    if np.sign(np.subtract(*1/frac_var)) != np.sign(np.subtract(*psh)):\n",
    "        err = \"fractional variations of data {} do not match ponts shape {}!\".format(frac_var, psh)\n",
    "        raise ValueError(err)\n",
    "        \n",
    "    return\n",
    "\n",
    "\n",
    "def check_pnts_span(pnts, data):\n",
    "    # Make sure the `pnts` cover the full range of the data\n",
    "    for ii, (ee, dd) in enumerate(zip(pnts, data)):\n",
    "        ex = kale.utils.minmax(ee)\n",
    "        dx = kale.utils.minmax(dd)\n",
    "        print(\"dim {}, edges: [{:.4e}, {:.4e}], data: [{:.4e}, {:.4e}]\".format(ii, *ex, *dx))\n",
    "        if (dx[0] < ex[0]) or (dx[1] > ex[1]):\n",
    "            raise ValueError(\"Span of edges ({}) is smaller than data ({})!\".format(ex, dx))\n",
    "            \n",
    "    return\n",
    "\n",
    "\n",
    "def check_in_match_out(vin, vout):\n",
    "    # Output points should match input\n",
    "    for ii, (pi, po) in enumerate(zip(vin, vout)):\n",
    "        pi_stats = kale.utils.stats(pi, stats=False)\n",
    "        po_stats = kale.utils.stats(po, stats=False)\n",
    "        print(\"dim {}\".format(ii))\n",
    "        print(\"\\tInput  points: \", pi_stats)\n",
    "        print(\"\\tOutput points: \", po_stats)\n",
    "\n",
    "        if not np.all(pi == po):\n",
    "            err = \"Input points: {} do not match output points: {}!\".format(pin_stats, pot_stats)\n",
    "            raise ValueError(err)\n",
    "            \n",
    "    return"
   ]
  },
  {
   "cell_type": "markdown",
   "metadata": {},
   "source": [
    "### No Args"
   ]
  },
  {
   "cell_type": "code",
   "execution_count": null,
   "metadata": {},
   "outputs": [],
   "source": [
    "pnts, vals = kale.density(data)"
   ]
  },
  {
   "cell_type": "code",
   "execution_count": null,
   "metadata": {},
   "outputs": [],
   "source": [
    "check_grid_shapes(pnts, vals, data)"
   ]
  },
  {
   "cell_type": "code",
   "execution_count": null,
   "metadata": {},
   "outputs": [],
   "source": [
    "check_pnts_span(pnts, data)"
   ]
  },
  {
   "cell_type": "code",
   "execution_count": null,
   "metadata": {},
   "outputs": [],
   "source": [
    "xx, yy = kale.utils.meshgrid(*pnts)\n",
    "plt.contour(xx, yy, vals, alpha=1.0, cmap='Reds')\n",
    "plt.scatter(*data, alpha=0.2, s=5, color='b')\n",
    "nbshow()"
   ]
  },
  {
   "cell_type": "markdown",
   "metadata": {},
   "source": [
    "### Given `points`"
   ]
  },
  {
   "cell_type": "markdown",
   "metadata": {},
   "source": [
    "In `grid` mode"
   ]
  },
  {
   "cell_type": "code",
   "execution_count": null,
   "metadata": {},
   "outputs": [],
   "source": [
    "_pnts = [np.histogram(dd, bins='auto')[1] for dd in data]\n",
    "pnts_grid, vals_grid = kale.density(data, points=_pnts, grid=True)"
   ]
  },
  {
   "cell_type": "code",
   "execution_count": null,
   "metadata": {},
   "outputs": [],
   "source": [
    "check_in_match_out(_pnts, pnts_grid)"
   ]
  },
  {
   "cell_type": "code",
   "execution_count": null,
   "metadata": {},
   "outputs": [],
   "source": [
    "check_grid_shapes(pnts_grid, vals_grid, data)"
   ]
  },
  {
   "cell_type": "code",
   "execution_count": null,
   "metadata": {},
   "outputs": [],
   "source": [
    "check_pnts_span(pnts_grid, data)"
   ]
  },
  {
   "cell_type": "markdown",
   "metadata": {},
   "source": [
    "In `scatter` mode"
   ]
  },
  {
   "cell_type": "code",
   "execution_count": null,
   "metadata": {},
   "outputs": [],
   "source": [
    "UPSAMPLE = 10\n",
    "BW_SCALE = 0.5\n",
    "\n",
    "ndim, ndata = data.shape\n",
    "num = int(UPSAMPLE*ndata)\n",
    "\n",
    "_pnts = np.random.choice(ndata, size=num)\n",
    "_pnts = data.T[_pnts].T\n",
    "\n",
    "bw = BW_SCALE * np.power(ndata, -1.0/(ndim+4))\n",
    "bw = np.cov(data) * bw\n",
    "\n",
    "_pnts += np.random.multivariate_normal([0.0, 0.0], bw, size=num).T\n",
    "\n",
    "plt.scatter(*_pnts, alpha=0.4, s=5)\n",
    "plt.scatter(*data, alpha=0.3, s=40)\n",
    "nbshow()"
   ]
  },
  {
   "cell_type": "code",
   "execution_count": null,
   "metadata": {},
   "outputs": [],
   "source": [
    "pnts_scat, vals_scat = kale.density(data, points=_pnts, grid=False)"
   ]
  },
  {
   "cell_type": "code",
   "execution_count": null,
   "metadata": {},
   "outputs": [],
   "source": [
    "check_in_match_out(_pnts, pnts_scat)"
   ]
  },
  {
   "cell_type": "code",
   "execution_count": null,
   "metadata": {},
   "outputs": [],
   "source": [
    "smap = kale.plot._get_smap(vals, cmap='plasma')\n",
    "colors = smap.to_rgba(vals_scat)\n",
    "plt.scatter(*pnts_scat, color=colors, alpha=0.2)\n",
    "nbshow()"
   ]
  },
  {
   "cell_type": "code",
   "execution_count": null,
   "metadata": {},
   "outputs": [],
   "source": [
    "def compare_scatter_to_grid(pnts_scat, vals_scat, pnts_grid, vals_grid):\n",
    "    args = [pnts_scat, vals_scat, pnts_grid, vals_grid]\n",
    "    # print([kale.utils.jshape(aa) for aa in args])\n",
    "    \n",
    "    # Only check points within the range of data values\n",
    "    extr = [kale.utils.minmax(dd) for dd in data]\n",
    "    idx = [((extr[dd][0] < pnts_scat[dd]) & (pnts_scat[dd] < extr[dd][-1]))\n",
    "           for dd in range(2)]\n",
    "    idx = np.all(idx, axis=0)\n",
    "    num = np.count_nonzero(idx)\n",
    "    if num < vals_scat.size//2:\n",
    "        err = \"Very few points found within data values ({}/{})!\".format(num, vals_scat.size)\n",
    "        raise ValueError(err)\n",
    "    \n",
    "    pnts_scat = pnts_scat.T[idx].T\n",
    "    vals_scat = vals_scat.T[idx].T\n",
    "    \n",
    "    # find which grid point each scatter point belongs in\n",
    "    idx = [np.digitize(pp, gg) - 1 for gg, pp in zip(pnts_grid, pnts_scat)]\n",
    "    vals = vals_grid[idx[0], idx[1]]\n",
    "\n",
    "    # Compare to grid values\n",
    "    diff = np.fabs(vals_scat - vals) / np.min([vals_scat, vals], axis=0)\n",
    "    quants = kale.utils.quantiles(diff, sigmas=[-1, 0, 1])\n",
    "    print(\"Difference quantiles between scatter and grid values:\", quants)\n",
    "    # Raise error if differences are too far off\n",
    "    limits = [0.1, 0.2, 0.5]\n",
    "    if np.any(quants > limits):\n",
    "        raise ValueError(\"Match is unacceptably poor!\")\n",
    "    \n",
    "    return\n",
    "    \n",
    "# print(np.shape(pnts_grid))\n",
    "compare_scatter_to_grid(pnts_scat, vals_scat, pnts_grid, vals_grid)"
   ]
  }
 ],
 "metadata": {
  "celltoolbar": "Initialization Cell",
  "kernelspec": {
   "display_name": "Python 3",
   "language": "python",
   "name": "python3"
  },
  "language_info": {
   "codemirror_mode": {
    "name": "ipython",
    "version": 3
   },
   "file_extension": ".py",
   "mimetype": "text/x-python",
   "name": "python",
   "nbconvert_exporter": "python",
   "pygments_lexer": "ipython3",
   "version": "3.7.7"
  },
  "toc": {
   "base_numbering": 1,
   "nav_menu": {},
   "number_sections": true,
   "sideBar": true,
   "skip_h1_title": false,
   "title_cell": "Table of Contents",
   "title_sidebar": "Contents",
   "toc_cell": false,
   "toc_position": {
    "height": "calc(100% - 180px)",
    "left": "10px",
    "top": "150px",
    "width": "220px"
   },
   "toc_section_display": true,
   "toc_window_display": true
  },
  "varInspector": {
   "cols": {
    "lenName": 16,
    "lenType": 16,
    "lenVar": 40
   },
   "kernels_config": {
    "python": {
     "delete_cmd_postfix": "",
     "delete_cmd_prefix": "del ",
     "library": "var_list.py",
     "varRefreshCmd": "print(var_dic_list())"
    },
    "r": {
     "delete_cmd_postfix": ") ",
     "delete_cmd_prefix": "rm(",
     "library": "var_list.r",
     "varRefreshCmd": "cat(var_dic_list()) "
    }
   },
   "types_to_exclude": [
    "module",
    "function",
    "builtin_function_or_method",
    "instance",
    "_Feature"
   ],
   "window_display": false
  }
 },
 "nbformat": 4,
 "nbformat_minor": 2
}
