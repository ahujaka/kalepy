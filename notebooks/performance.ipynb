{
 "cells": [
  {
   "cell_type": "code",
   "execution_count": null,
   "metadata": {},
   "outputs": [],
   "source": [
    "# %load init.ipy\n",
    "# NOTE: This is for when the notebook is converted to a python script\n",
    "# NOTE: this MUST precede the magic functions\n",
    "def get_ipython():\n",
    "    return type('Dummy', (object,), dict(run_line_magic=lambda *args, **kwargs: None))\n",
    "    \n",
    "%reload_ext autoreload\n",
    "%autoreload 2\n",
    "\n",
    "# %load init.ipy\n",
    "import os, sys, logging, datetime\n",
    "from importlib import reload\n",
    "\n",
    "import numpy as np\n",
    "import scipy as sp\n",
    "import scipy.stats\n",
    "import matplotlib as mpl\n",
    "import matplotlib.pyplot as plt\n",
    "from nose import tools\n",
    "\n",
    "import corner\n",
    "import tqdm\n",
    "import memory_profiler as mpro\n",
    "\n",
    "import kalepy as kale\n",
    "import kalepy.utils\n",
    "import kalepy.plot\n",
    "from kalepy.plot import nbshow   # NOTE: this should be upgraded to `plot_control`\n",
    "from kalepy.plot import plot_control\n",
    "\n",
    "def save_fig(fig, fname, **kwargs):\n",
    "    kwargs.setdefault('path', kale._PATH_NB_OUT)\n",
    "    kwargs.setdefault('rename', True)\n",
    "    return kale.plot.save_fig(fig, fname, **kwargs)"
   ]
  },
  {
   "cell_type": "markdown",
   "metadata": {},
   "source": [
    "# Utilities"
   ]
  },
  {
   "cell_type": "markdown",
   "metadata": {},
   "source": [
    "## bound_indices()"
   ]
  },
  {
   "cell_type": "code",
   "execution_count": null,
   "metadata": {},
   "outputs": [],
   "source": [
    "def the_func(func, shp=(3, 1000)):\n",
    "    data = np.random.uniform(-1.0, 1.0, shp)\n",
    "    ndim = shp[0]\n",
    "    bnds = np.sort(np.random.uniform(-1.0, 1.0, (ndim, 2)), axis=-1)\n",
    "    idx = func(data, bnds)\n",
    "    return"
   ]
  },
  {
   "cell_type": "code",
   "execution_count": null,
   "metadata": {},
   "outputs": [],
   "source": [
    "%timeit the_func(kale.utils.bound_indices, shp=(1, 1000))"
   ]
  },
  {
   "cell_type": "code",
   "execution_count": null,
   "metadata": {},
   "outputs": [],
   "source": [
    "%timeit the_func(kale.utils._bound_indices, shp=(1, 1000))"
   ]
  },
  {
   "cell_type": "markdown",
   "metadata": {},
   "source": [
    "# Resampling"
   ]
  },
  {
   "cell_type": "code",
   "execution_count": null,
   "metadata": {},
   "outputs": [],
   "source": [
    "data_shape = (7, 607)\n",
    "# num_samples = 3.5e6\n",
    "num_trials = 7\n",
    "\n",
    "num_samples = np.logspace(0, 6, 15)\n",
    "\n",
    "data = np.random.lognormal(size=data_shape)\n",
    "reflect = [[0.0, None] for ii in range(data_shape[0])]\n",
    "\n",
    "weights = np.random.uniform(size=data_shape[1])\n",
    "\n",
    "\n",
    "kde = kale.KDE(data, weights=weights, diagonal=True, bw_rescale=0.2)\n",
    "durs = np.zeros((num_samples.size, num_trials))\n",
    "mems = np.zeros_like(durs)\n",
    "\n",
    "for ii, num in enumerate(tqdm.tqdm(num_samples)):\n",
    "    for jj in range(num_trials):\n",
    "        beg = datetime.datetime.now()\n",
    "        def func():\n",
    "            kde.resample(int(num), reflect=reflect)\n",
    "            return\n",
    "        \n",
    "        mem_usage = mpro.memory_usage(func)\n",
    "        temp = datetime.datetime.now() - beg\n",
    "        temp = temp.total_seconds()\n",
    "        durs[ii, jj] = temp        \n",
    "        mems[ii, jj] = np.max(mem_usage)\n",
    "        "
   ]
  },
  {
   "cell_type": "code",
   "execution_count": null,
   "metadata": {},
   "outputs": [],
   "source": [
    "data_shape = (7, 607)\n",
    "# num_samples = 3.5e6\n",
    "num_trials = 7\n",
    "\n",
    "num_samples = np.logspace(0, 6, 15)\n",
    "# num_samples = np.array([1.00000000e+00, 2.68269580e+00, 7.19685673e+00, 1.93069773e+01,\n",
    "#        5.17947468e+01, 1.38949549e+02, 3.72759372e+02, 1.00000000e+03,\n",
    "#        2.68269580e+03, 7.19685673e+03, 1.93069773e+04, 5.17947468e+04,\n",
    "#        1.38949549e+05])\n",
    "\n",
    "data = np.random.lognormal(size=data_shape)\n",
    "\n",
    "reflect = [[0.0, None] for ii in range(data_shape[0])]\n",
    "\n",
    "weights = np.random.uniform(size=data_shape[1])\n",
    "\n",
    "\n",
    "kde = kale.KDE(data, weights=weights, diagonal=True, bw_rescale=0.2)\n",
    "durs_chunk = np.zeros((num_samples.size, num_trials))\n",
    "mems_chunk = np.zeros_like(durs_chunk)\n",
    "\n",
    "for ii, num in enumerate(tqdm.tqdm(num_samples)):\n",
    "    for jj in range(num_trials):\n",
    "        beg = datetime.datetime.now()\n",
    "        def func():\n",
    "            kde.resample(int(num), reflect=reflect)\n",
    "            return\n",
    "        \n",
    "        mem_usage = mpro.memory_usage(func)\n",
    "        temp = datetime.datetime.now() - beg\n",
    "        temp = temp.total_seconds()\n",
    "        durs_chunk[ii, jj] = temp        \n",
    "        mems_chunk[ii, jj] = np.max(mem_usage)\n",
    "        \n",
    "    print(\"{:2d}: {:.2e} ==> t = {:.2e} [s], m = {:.2e} [MB]\".format(\n",
    "        ii, num, np.mean(durs_chunk[ii]), np.mean(mems_chunk[ii])))"
   ]
  },
  {
   "cell_type": "code",
   "execution_count": null,
   "metadata": {},
   "outputs": [],
   "source": [
    "fig, axes = plt.subplots(figsize=[6, 8], nrows=2, sharex=True)\n",
    "for ax in axes:\n",
    "    ax.set(xscale='log', yscale='log')\n",
    "    ax.grid(alpha=0.2)\n",
    "\n",
    "xx = num_samples\n",
    "values = [durs, mems]\n",
    "value_names = ['time [s]', 'mem [MB]']\n",
    "funcs = [np.median, np.mean]\n",
    "func_names = ['med', 'ave']\n",
    "lines = ['--', ':']\n",
    "\n",
    "norms = [1.0, num_samples]\n",
    "colors = ['r', 'b']\n",
    "norm_names = ['-', 'N']\n",
    "\n",
    "for ii, (ax, vals, vname) in enumerate(zip(axes, values, value_names)):\n",
    "    ax.set_ylabel(vname, color=colors[0])\n",
    "    tw = ax.twinx()\n",
    "    tw.set_yscale('log')\n",
    "    tw.set_ylabel(vname + ' / num', color=colors[1])\n",
    "    \n",
    "    use_axes = [ax, tw]\n",
    "    for jj, (func, fname, ls) in enumerate(zip(funcs, func_names, lines)):\n",
    "        \n",
    "        for kk, (norm, nname, cc, art) in enumerate(zip(norms, norm_names, colors, use_axes)):\n",
    "            norm = np.atleast_2d(norm).T\n",
    "            yy = func(vals/norm, axis=-1)\n",
    "            name = fname + ' ' + nname\n",
    "            art.plot(xx, yy, color=cc, ls=ls, label=name)\n",
    "\n",
    "axes[1].legend()\n",
    "nbshow()"
   ]
  },
  {
   "cell_type": "code",
   "execution_count": null,
   "metadata": {},
   "outputs": [],
   "source": [
    "fig, axes = plt.subplots(figsize=[6, 8], nrows=2, sharex=True)\n",
    "for ax in axes:\n",
    "    ax.set(xscale='log', yscale='log')\n",
    "    ax.grid(alpha=0.2)\n",
    "\n",
    "xx = num_samples\n",
    "values = [durs_chunk, mems_chunk]\n",
    "\n",
    "value_names = ['time [s]', 'mem [MB]']\n",
    "funcs = [np.median, np.mean]\n",
    "func_names = ['med', 'ave']\n",
    "lines = ['--', ':']\n",
    "\n",
    "norms = [1.0, num_samples]\n",
    "colors = ['r', 'b']\n",
    "norm_names = ['-', 'N']\n",
    "\n",
    "for ii, (ax, vals, vname) in enumerate(zip(axes, values, value_names)):\n",
    "    ax.set_ylabel(vname, color=colors[0])\n",
    "    tw = ax.twinx()\n",
    "    tw.set_yscale('log')\n",
    "    tw.set_ylabel(vname + ' / num', color=colors[1])\n",
    "    \n",
    "    use_axes = [ax, tw]\n",
    "    for jj, (func, fname, ls) in enumerate(zip(funcs, func_names, lines)):\n",
    "        \n",
    "        for kk, (norm, nname, cc, art) in enumerate(zip(norms, norm_names, colors, use_axes)):\n",
    "            norm = np.atleast_2d(norm).T\n",
    "            yy = func(vals/norm, axis=-1)\n",
    "            name = fname + ' ' + nname\n",
    "            art.plot(xx, yy, color=cc, ls=ls, label=name)\n",
    "\n",
    "axes[1].legend()\n",
    "nbshow()"
   ]
  },
  {
   "cell_type": "markdown",
   "metadata": {},
   "source": [
    "### Vary Chunk Sizes"
   ]
  },
  {
   "cell_type": "markdown",
   "metadata": {},
   "source": [
    "This is very slow, so currently commented out."
   ]
  },
  {
   "cell_type": "code",
   "execution_count": null,
   "metadata": {},
   "outputs": [],
   "source": [
    "# data_shape = (7, 607)\n",
    "# # num_samples = 1e6\n",
    "# num_samples = 1e5\n",
    "# num_trials = 5\n",
    "\n",
    "# chunk_sizes = np.logspace(4, 6, 9)\n",
    "\n",
    "# data = np.random.lognormal(size=data_shape)\n",
    "\n",
    "# reflect = [[0.0, None] for ii in range(data_shape[0])]\n",
    "\n",
    "# weights = np.random.uniform(size=data_shape[1])\n",
    "\n",
    "# chunk_durs = np.zeros((chunk_sizes.size, num_trials))\n",
    "# chunk_mems = np.zeros_like(chunk_durs)\n",
    "\n",
    "# for ii, chunk in enumerate(chunk_sizes):\n",
    "\n",
    "#     kde = kale.KDE(data, weights=weights, diagonal=True, bw_rescale=0.2, chunk=chunk)\n",
    "#     for jj in range(num_trials):\n",
    "#         beg = datetime.datetime.now()\n",
    "#         def func():\n",
    "#             kde.resample(int(num_samples), reflect=reflect)\n",
    "#             return\n",
    "\n",
    "#         mem_usage = mpro.memory_usage(func)\n",
    "#         temp = datetime.datetime.now() - beg\n",
    "#         temp = temp.total_seconds()\n",
    "#         chunk_durs[ii, jj] = temp        \n",
    "#         chunk_mems[ii, jj] = np.max(mem_usage)\n",
    "\n",
    "#     print(\"{:2d}: {:.2e} ==> t = {:.2e} [s], m = {:.2e} [MB]\".format(\n",
    "#         ii, chunk, np.mean(chunk_durs[ii]), np.mean(chunk_mems[ii])))"
   ]
  },
  {
   "cell_type": "code",
   "execution_count": null,
   "metadata": {},
   "outputs": [],
   "source": [
    "# fig, axes = plt.subplots(figsize=[6, 8], nrows=2, sharex=True)\n",
    "# for ax in axes:\n",
    "#     ax.set(xscale='log', yscale='log')\n",
    "#     ax.grid(alpha=0.2)\n",
    "\n",
    "# xx = chunk_sizes\n",
    "# values = [chunk_durs, chunk_mems]\n",
    "\n",
    "# value_names = ['time [s]', 'mem [MB]']\n",
    "# funcs = [np.median, np.mean]\n",
    "# func_names = ['med', 'ave']\n",
    "# lines = ['--', ':']\n",
    "\n",
    "# norms = [1.0, num_samples]\n",
    "# colors = ['r', 'b']\n",
    "# norm_names = ['-', 'N']\n",
    "\n",
    "# for ii, (ax, vals, vname) in enumerate(zip(axes, values, value_names)):\n",
    "#     ax.set_ylabel(vname, color=colors[0])\n",
    "#     tw = ax.twinx()\n",
    "#     tw.set_yscale('log')\n",
    "#     tw.set_ylabel(vname + ' / num', color=colors[1])\n",
    "    \n",
    "#     use_axes = [ax, tw]\n",
    "#     for jj, (func, fname, ls) in enumerate(zip(funcs, func_names, lines)):\n",
    "        \n",
    "#         for kk, (norm, nname, cc, art) in enumerate(zip(norms, norm_names, colors, use_axes)):\n",
    "#             norm = np.atleast_2d(norm).T\n",
    "#             yy = func(vals/norm, axis=-1)\n",
    "#             name = fname + ' ' + nname\n",
    "#             art.plot(xx, yy, color=cc, ls=ls, label=name)\n",
    "\n",
    "# axes[1].legend()\n",
    "# nbshow()"
   ]
  }
 ],
 "metadata": {
  "kernelspec": {
   "display_name": "Python 3",
   "language": "python",
   "name": "python3"
  },
  "language_info": {
   "codemirror_mode": {
    "name": "ipython",
    "version": 3
   },
   "file_extension": ".py",
   "mimetype": "text/x-python",
   "name": "python",
   "nbconvert_exporter": "python",
   "pygments_lexer": "ipython3",
   "version": "3.7.5"
  },
  "toc": {
   "base_numbering": 1,
   "nav_menu": {},
   "number_sections": true,
   "sideBar": false,
   "skip_h1_title": false,
   "title_cell": "Table of Contents",
   "title_sidebar": "Contents",
   "toc_cell": false,
   "toc_position": {},
   "toc_section_display": false,
   "toc_window_display": true
  },
  "varInspector": {
   "cols": {
    "lenName": 16,
    "lenType": 16,
    "lenVar": 40
   },
   "kernels_config": {
    "python": {
     "delete_cmd_postfix": "",
     "delete_cmd_prefix": "del ",
     "library": "var_list.py",
     "varRefreshCmd": "print(var_dic_list())"
    },
    "r": {
     "delete_cmd_postfix": ") ",
     "delete_cmd_prefix": "rm(",
     "library": "var_list.r",
     "varRefreshCmd": "cat(var_dic_list()) "
    }
   },
   "types_to_exclude": [
    "module",
    "function",
    "builtin_function_or_method",
    "instance",
    "_Feature"
   ],
   "window_display": false
  }
 },
 "nbformat": 4,
 "nbformat_minor": 2
}
