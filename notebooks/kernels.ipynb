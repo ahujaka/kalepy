{
 "cells": [
  {
   "cell_type": "markdown",
   "metadata": {},
   "source": [
    "# Initialization"
   ]
  },
  {
   "cell_type": "code",
   "execution_count": 1,
   "metadata": {
    "ExecuteTime": {
     "end_time": "2019-05-29T19:46:23.827082Z",
     "start_time": "2019-05-29T19:46:23.115992Z"
    }
   },
   "outputs": [],
   "source": [
    "%reload_ext autoreload\n",
    "%autoreload 2\n",
    "\n",
    "import os, sys, shutil, logging\n",
    "from importlib import reload\n",
    "\n",
    "import numpy as np\n",
    "import scipy as sp\n",
    "import scipy.stats\n",
    "import tqdm\n",
    "import corner\n",
    "from nose import tools\n",
    "\n",
    "import matplotlib as mpl\n",
    "import matplotlib.pyplot as plt\n",
    "\n",
    "import kalepy as kale"
   ]
  },
  {
   "cell_type": "markdown",
   "metadata": {},
   "source": [
    "## Normalization"
   ]
  },
  {
   "cell_type": "code",
   "execution_count": 2,
   "metadata": {
    "ExecuteTime": {
     "end_time": "2019-05-29T19:01:58.935289Z",
     "start_time": "2019-05-29T19:01:58.547079Z"
    },
    "scrolled": true
   },
   "outputs": [
    {
     "name": "stderr",
     "output_type": "stream",
     "text": [
      "WARNING:root:WARNING: skipping kernel '<class 'kalepy.kernels.Parabola_Asym'>'!\n",
      "WARNING:root:WARNING: skipping kernel '<class 'kalepy.kernels.Parabola_Asym'>'!\n",
      "WARNING:root:WARNING: skipping kernel '<class 'kalepy.kernels.Triweight'>'!\n"
     ]
    },
    {
     "ename": "TypeError",
     "evalue": "evaluate() got an unexpected keyword argument 'bw'",
     "output_type": "error",
     "traceback": [
      "\u001b[0;31m---------------------------------------------------------------------------\u001b[0m",
      "\u001b[0;31mTypeError\u001b[0m                                 Traceback (most recent call last)",
      "\u001b[0;32m<ipython-input-2-41308eb0ef6f>\u001b[0m in \u001b[0;36m<module>\u001b[0;34m\u001b[0m\n\u001b[1;32m     15\u001b[0m     \u001b[0max\u001b[0m\u001b[0;34m.\u001b[0m\u001b[0mset_title\u001b[0m\u001b[0;34m(\u001b[0m\u001b[0mkern\u001b[0m\u001b[0;34m.\u001b[0m\u001b[0m__name__\u001b[0m\u001b[0;34m)\u001b[0m\u001b[0;34m\u001b[0m\u001b[0;34m\u001b[0m\u001b[0m\n\u001b[1;32m     16\u001b[0m     \u001b[0;32mfor\u001b[0m \u001b[0mbw\u001b[0m \u001b[0;32min\u001b[0m \u001b[0;34m[\u001b[0m\u001b[0;36m0.5\u001b[0m\u001b[0;34m,\u001b[0m \u001b[0;36m1.0\u001b[0m\u001b[0;34m,\u001b[0m \u001b[0;36m2.0\u001b[0m\u001b[0;34m,\u001b[0m \u001b[0;36m4.0\u001b[0m\u001b[0;34m]\u001b[0m\u001b[0;34m:\u001b[0m\u001b[0;34m\u001b[0m\u001b[0;34m\u001b[0m\u001b[0m\n\u001b[0;32m---> 17\u001b[0;31m         \u001b[0mpdf\u001b[0m \u001b[0;34m=\u001b[0m \u001b[0mkern\u001b[0m\u001b[0;34m.\u001b[0m\u001b[0mevaluate\u001b[0m\u001b[0;34m(\u001b[0m\u001b[0mxc\u001b[0m\u001b[0;34m,\u001b[0m \u001b[0;36m0.0\u001b[0m\u001b[0;34m,\u001b[0m \u001b[0mbw\u001b[0m\u001b[0;34m=\u001b[0m\u001b[0mbw\u001b[0m\u001b[0;34m)\u001b[0m\u001b[0;34m\u001b[0m\u001b[0;34m\u001b[0m\u001b[0m\n\u001b[0m\u001b[1;32m     18\u001b[0m         \u001b[0mtot\u001b[0m \u001b[0;34m=\u001b[0m \u001b[0mnp\u001b[0m\u001b[0;34m.\u001b[0m\u001b[0msum\u001b[0m\u001b[0;34m(\u001b[0m\u001b[0mpdf\u001b[0m \u001b[0;34m*\u001b[0m \u001b[0mdx\u001b[0m\u001b[0;34m)\u001b[0m\u001b[0;34m\u001b[0m\u001b[0;34m\u001b[0m\u001b[0m\n\u001b[1;32m     19\u001b[0m         \u001b[0;31m# print(\"\\t{:.2f} : {:.4e}\".format(bw, tot))\u001b[0m\u001b[0;34m\u001b[0m\u001b[0;34m\u001b[0m\u001b[0;34m\u001b[0m\u001b[0m\n",
      "\u001b[0;31mTypeError\u001b[0m: evaluate() got an unexpected keyword argument 'bw'"
     ]
    },
    {
     "data": {
      "image/png": "[encoded data removed]",
      "text/plain": [
       "<Figure size 1008x288 with 2 Axes>"
      ]
     },
     "metadata": {
      "needs_background": "light"
     },
     "output_type": "display_data"
    }
   ],
   "source": [
    "kernels = kale.kernels.get_all_distribution_classes()\n",
    "num = len(kernels)\n",
    "\n",
    "fig, axes = plt.subplots(figsize=[14, 4], ncols=num, sharey=True, sharex=True)\n",
    "for ax in axes:\n",
    "    ax.grid(alpha=0.15)\n",
    "\n",
    "xe = np.linspace(-20.0, 20.0, 3000)\n",
    "xc = kale.utils.midpoints(xe, 'lin')\n",
    "dx = np.diff(xe)\n",
    "ax.set_xlim([-4.2, 4.2])\n",
    "\n",
    "for ax, kern in zip(axes, kernels):\n",
    "    # print(kern)\n",
    "    ax.set_title(kern.__name__)\n",
    "    for bw in [0.5, 1.0, 2.0, 4.0]:\n",
    "        pdf = kern.evaluate(xc, 0.0, bw=bw)\n",
    "        tot = np.sum(pdf * dx)\n",
    "        # print(\"\\t{:.2f} : {:.4e}\".format(bw, tot))\n",
    "        l1, = ax.plot(xc, pdf)\n",
    "        ax.plot(xc, np.cumsum(pdf*dx), ls='--', color=l1.get_color())\n",
    "        ax.plot(xc, kern.cdf(xc, bw=bw), ls=':', color=l1.get_color(), lw=4.0, alpha=0.5)\n",
    "        tools.assert_almost_equal(tot, 1.0, delta=1e-2)\n",
    "    \n",
    "plt.show()"
   ]
  },
  {
   "cell_type": "code",
   "execution_count": null,
   "metadata": {
    "ExecuteTime": {
     "end_time": "2019-05-29T19:01:58.937842Z",
     "start_time": "2019-05-29T19:01:57.718Z"
    }
   },
   "outputs": [],
   "source": [
    "def kernel_at_dim_bw(kern, ndim, bw, num=1e6):\n",
    "    if ndim > 3:\n",
    "        raise ValueError(\"`ndim` = {} is too memory intensive!\")\n",
    "    pad = 2.0 if kern._FINITE else 4.0\n",
    "    extr = [-pad*bw, pad*bw]\n",
    "    num = np.power(num, 1/ndim)\n",
    "    num = int(num)\n",
    "    edges = np.zeros((ndim, num+1))\n",
    "    cents = np.zeros((ndim, num))\n",
    "    diffs = np.zeros_like(cents)\n",
    "    for ii in range(ndim):\n",
    "        edges[ii, :], cents[ii, :], diffs[ii, :] = kale.utils.bins(*extr, num+1)\n",
    "    \n",
    "    pdf_edges = kern.grid(edges, ref=np.zeros(ndim), bw=bw)\n",
    "    tot = np.array(pdf_edges)\n",
    "    for ii in range(ndim):\n",
    "        tot = np.trapz(tot, x=edges[-1-ii])\n",
    "            \n",
    "    print(\"{} :: nd={}, bw={:.2f} : tot={:.4e}\".format(\n",
    "        kern.__name__, ndim, bw, tot))\n",
    "\n",
    "    dpow = -4 + ndim\n",
    "    delta = 2*np.power(10.0, np.minimum(dpow, -1))\n",
    "\n",
    "    tools.assert_almost_equal(tot, 1.0, delta=delta)\n",
    "    \n",
    "    return\n",
    "    \n",
    "kernels = kale.kernels.get_all_distribution_classes()\n",
    "num = len(kernels)\n",
    "\n",
    "num_dims = [1, 2, 3]\n",
    "bandwidths = [0.5, 1.0, 2.0, 4.0]\n",
    "\n",
    "for kern in kernels:\n",
    "    print(\"\\nkern: \", kern)\n",
    "    for ndim in num_dims:\n",
    "        print(\"\\nndim: \", ndim)\n",
    "        for bw in bandwidths:\n",
    "            kernel_at_dim_bw(kern, ndim, bw)\n",
    "\n",
    "       \n",
    "        "
   ]
  },
  {
   "cell_type": "markdown",
   "metadata": {},
   "source": [
    "## Covariance"
   ]
  },
  {
   "cell_type": "code",
   "execution_count": 3,
   "metadata": {
    "ExecuteTime": {
     "end_time": "2019-05-29T19:07:13.843735Z",
     "start_time": "2019-05-29T19:07:13.352739Z"
    }
   },
   "outputs": [
    {
     "name": "stderr",
     "output_type": "stream",
     "text": [
      "WARNING:root:WARNING: skipping kernel '<class 'kalepy.kernels.Parabola_Asym'>'!\n",
      "WARNING:root:WARNING: skipping kernel '<class 'kalepy.kernels.Parabola_Asym'>'!\n",
      "WARNING:root:WARNING: skipping kernel '<class 'kalepy.kernels.Triweight'>'!\n"
     ]
    },
    {
     "name": "stdout",
     "output_type": "stream",
     "text": [
      "[[2.25  1.575]\n",
      " [1.575 2.25 ]] \n",
      "\n",
      "Gaussian\n"
     ]
    },
    {
     "ename": "TypeError",
     "evalue": "evaluate() got an unexpected keyword argument 'bw'",
     "output_type": "error",
     "traceback": [
      "\u001b[0;31m---------------------------------------------------------------------------\u001b[0m",
      "\u001b[0;31mTypeError\u001b[0m                                 Traceback (most recent call last)",
      "\u001b[0;32m<ipython-input-3-333976ff604c>\u001b[0m in \u001b[0;36m<module>\u001b[0;34m\u001b[0m\n\u001b[1;32m     24\u001b[0m     \u001b[0;32mif\u001b[0m \u001b[0mii\u001b[0m \u001b[0;34m==\u001b[0m \u001b[0;36m0\u001b[0m\u001b[0;34m:\u001b[0m\u001b[0;34m\u001b[0m\u001b[0;34m\u001b[0m\u001b[0m\n\u001b[1;32m     25\u001b[0m         \u001b[0medges\u001b[0m \u001b[0;34m=\u001b[0m \u001b[0;34m[\u001b[0m\u001b[0mnp\u001b[0m\u001b[0;34m.\u001b[0m\u001b[0mlinspace\u001b[0m\u001b[0;34m(\u001b[0m\u001b[0;34m-\u001b[0m\u001b[0;36m2\u001b[0m\u001b[0;34m*\u001b[0m\u001b[0mss\u001b[0m\u001b[0;34m,\u001b[0m \u001b[0;36m2\u001b[0m\u001b[0;34m*\u001b[0m\u001b[0mss\u001b[0m\u001b[0;34m,\u001b[0m \u001b[0;36m100\u001b[0m\u001b[0;34m)\u001b[0m \u001b[0;32mfor\u001b[0m \u001b[0mss\u001b[0m \u001b[0;32min\u001b[0m \u001b[0msigma\u001b[0m\u001b[0;34m]\u001b[0m\u001b[0;34m\u001b[0m\u001b[0;34m\u001b[0m\u001b[0m\n\u001b[0;32m---> 26\u001b[0;31m         \u001b[0mpdf\u001b[0m \u001b[0;34m=\u001b[0m \u001b[0mkern\u001b[0m\u001b[0;34m.\u001b[0m\u001b[0mgrid\u001b[0m\u001b[0;34m(\u001b[0m\u001b[0medges\u001b[0m\u001b[0;34m,\u001b[0m \u001b[0mbw\u001b[0m\u001b[0;34m=\u001b[0m\u001b[0msigma\u001b[0m\u001b[0;34m[\u001b[0m\u001b[0;36m0\u001b[0m\u001b[0;34m]\u001b[0m\u001b[0;34m)\u001b[0m\u001b[0;34m\u001b[0m\u001b[0;34m\u001b[0m\u001b[0m\n\u001b[0m\u001b[1;32m     27\u001b[0m         \u001b[0max\u001b[0m\u001b[0;34m.\u001b[0m\u001b[0mcontour\u001b[0m\u001b[0;34m(\u001b[0m\u001b[0;34m*\u001b[0m\u001b[0medges\u001b[0m\u001b[0;34m,\u001b[0m \u001b[0mpdf\u001b[0m\u001b[0;34m)\u001b[0m\u001b[0;34m\u001b[0m\u001b[0;34m\u001b[0m\u001b[0m\n\u001b[1;32m     28\u001b[0m \u001b[0;34m\u001b[0m\u001b[0m\n",
      "\u001b[0;32m~/Programs/kalepy/kalepy/kernels.py\u001b[0m in \u001b[0;36mgrid\u001b[0;34m(cls, edges, **kwargs)\u001b[0m\n\u001b[1;32m     92\u001b[0m         \u001b[0mshp\u001b[0m \u001b[0;34m=\u001b[0m \u001b[0mnp\u001b[0m\u001b[0;34m.\u001b[0m\u001b[0mshape\u001b[0m\u001b[0;34m(\u001b[0m\u001b[0mcoords\u001b[0m\u001b[0;34m)\u001b[0m\u001b[0;34m[\u001b[0m\u001b[0;36m1\u001b[0m\u001b[0;34m:\u001b[0m\u001b[0;34m]\u001b[0m\u001b[0;34m\u001b[0m\u001b[0;34m\u001b[0m\u001b[0m\n\u001b[1;32m     93\u001b[0m         \u001b[0mcoords\u001b[0m \u001b[0;34m=\u001b[0m \u001b[0mnp\u001b[0m\u001b[0;34m.\u001b[0m\u001b[0mvstack\u001b[0m\u001b[0;34m(\u001b[0m\u001b[0;34m[\u001b[0m\u001b[0mxx\u001b[0m\u001b[0;34m.\u001b[0m\u001b[0mravel\u001b[0m\u001b[0;34m(\u001b[0m\u001b[0;34m)\u001b[0m \u001b[0;32mfor\u001b[0m \u001b[0mxx\u001b[0m \u001b[0;32min\u001b[0m \u001b[0mcoords\u001b[0m\u001b[0;34m]\u001b[0m\u001b[0;34m)\u001b[0m\u001b[0;34m\u001b[0m\u001b[0;34m\u001b[0m\u001b[0m\n\u001b[0;32m---> 94\u001b[0;31m         \u001b[0mpdf\u001b[0m \u001b[0;34m=\u001b[0m \u001b[0mcls\u001b[0m\u001b[0;34m.\u001b[0m\u001b[0mevaluate\u001b[0m\u001b[0;34m(\u001b[0m\u001b[0mcoords\u001b[0m\u001b[0;34m,\u001b[0m \u001b[0;34m**\u001b[0m\u001b[0mkwargs\u001b[0m\u001b[0;34m)\u001b[0m\u001b[0;34m\u001b[0m\u001b[0;34m\u001b[0m\u001b[0m\n\u001b[0m\u001b[1;32m     95\u001b[0m         \u001b[0;31m# print(\"coords = \", np.shape(coords), \"pdf = \", np.shape(pdf), \"shp = \", shp)\u001b[0m\u001b[0;34m\u001b[0m\u001b[0;34m\u001b[0m\u001b[0;34m\u001b[0m\u001b[0m\n\u001b[1;32m     96\u001b[0m         \u001b[0mpdf\u001b[0m \u001b[0;34m=\u001b[0m \u001b[0mpdf\u001b[0m\u001b[0;34m.\u001b[0m\u001b[0mreshape\u001b[0m\u001b[0;34m(\u001b[0m\u001b[0mshp\u001b[0m\u001b[0;34m)\u001b[0m\u001b[0;34m\u001b[0m\u001b[0;34m\u001b[0m\u001b[0m\n",
      "\u001b[0;31mTypeError\u001b[0m: evaluate() got an unexpected keyword argument 'bw'"
     ]
    },
    {
     "data": {
      "image/png": "[encoded data removed]",
      "text/plain": [
       "<Figure size 1080x360 with 4 Axes>"
      ]
     },
     "metadata": {
      "needs_background": "light"
     },
     "output_type": "display_data"
    }
   ],
   "source": [
    "NUM = int(1e5)\n",
    "np.random.seed(9876)\n",
    "\n",
    "\n",
    "sigma = [1.5, 1.5]\n",
    "corr = 0.7\n",
    "\n",
    "s2 = np.square(sigma)\n",
    "cc = corr*sigma[0]*sigma[1]\n",
    "cov = [[s2[0], cc], [cc, s2[1]]]\n",
    "\n",
    "cov = np.array(cov)\n",
    "print(cov, \"\\n\")\n",
    "\n",
    "kernels = kale.get_all_distribution_classes()\n",
    "# print(kernels)\n",
    "fig, axes = plt.subplots(figsize=[15, 5], ncols=len(kernels), nrows=2)\n",
    "\n",
    "\n",
    "for (ii, jj), ax in np.ndenumerate(axes):\n",
    "    kern = kernels[jj]\n",
    "    print(kern.__name__)\n",
    "\n",
    "    if ii == 0:\n",
    "        edges = [np.linspace(-2*ss, 2*ss, 100) for ss in sigma]\n",
    "        pdf = kern.grid(edges, bw=sigma[0])\n",
    "        ax.contour(*edges, pdf)\n",
    "        \n",
    "    else:  \n",
    "        data = kern.sample(2, cov, NUM)\n",
    "        data_cov = np.cov(*data)\n",
    "        print(\"\\n\", ii, kern)\n",
    "        print(data_cov)\n",
    "\n",
    "        ax.scatter(*data, alpha=0.02)\n",
    "        ax.axis('equal')\n",
    "        ax.grid(alpha=0.2)\n",
    "        ax.set_title(kern.__name__)\n",
    "\n",
    "        assert np.allclose(data_cov, cov, rtol=1e-2), \"Data covariance does not match input!\"\n",
    "\n",
    "    \n",
    "plt.show()"
   ]
  },
  {
   "cell_type": "markdown",
   "metadata": {},
   "source": [
    "## Resampling"
   ]
  },
  {
   "cell_type": "code",
   "execution_count": 4,
   "metadata": {
    "ExecuteTime": {
     "end_time": "2019-05-29T19:07:17.655774Z",
     "start_time": "2019-05-29T19:07:17.617224Z"
    }
   },
   "outputs": [
    {
     "data": {
      "text/plain": [
       "<Figure size 1008x432 with 0 Axes>"
      ]
     },
     "metadata": {},
     "output_type": "display_data"
    }
   ],
   "source": [
    "def resample_at_kernel_bandwidth(ax, kern, bw):\n",
    "    NUM = int(1e5)\n",
    "    xe, xc, dx = kale.utils.bins(-2*bw, 2*bw, 40)\n",
    "    samp = kern.sample(1, bw, NUM).squeeze()\n",
    "    \n",
    "    hist, _ = np.histogram(samp, xe, density=True)\n",
    "    pdf = kern.evaluate(xc, 0.0, bw)\n",
    "\n",
    "    hist_cum = np.cumsum(hist*dx)\n",
    "    hist_cum = np.append([0.0], hist_cum)\n",
    "    cdf = kern.cdf(xe, bw=bw)\n",
    "    \n",
    "    ax.hist(samp, xe, histtype='step', color='b', density=True)\n",
    "    ax.plot(xc, pdf, color='b', ls='--')\n",
    "    \n",
    "    ax.plot(xe, hist_cum, color='r', ls='-')\n",
    "    ax.plot(xe, cdf, color='r', ls='--')\n",
    "    \n",
    "    for aa, bb, name in zip([hist, hist_cum], [pdf, cdf], ['pdf', 'cdf']):\n",
    "        idx = (aa > 0.0) & (bb > 0.0)\n",
    "        dof = np.count_nonzero(idx) - 1\n",
    "        x2 = np.sum(np.square(aa[idx] - bb[idx])/bb[idx]**2)\n",
    "        x2 = x2 / dof        \n",
    "        print(\"Kernel: {}, bw: {:.2e} :: {} : x2/dof = {:.4e}\".format(kern.__name__, bw, name, x2))\n",
    "        print(\"\\t\" + kale.utils.array_str(aa[idx]))\n",
    "        print(\"\\t\" + kale.utils.array_str(bb[idx]))\n",
    "        tools.assert_true(x2 < 1e-2)\n",
    "        \n",
    "    return\n",
    "\n",
    "\n",
    "bandwidths = [0.5, 2.0]  #, 2.0]\n",
    "colors = ['r', 'b']  # , 'g']\n",
    "\n",
    "# kernels = kale.get_all_distribution_classes()\n",
    "kernels = []\n",
    "fig, axes = plt.subplots(figsize=[14, 6], ncols=len(kernels), nrows=len(bandwidths))\n",
    "    \n",
    "for (ii, jj), ax in np.ndenumerate(axes):\n",
    "    kern = kernels[ii]\n",
    "    bw = bandwidths[jj]\n",
    "    resample_at_kernel_bandwidth(ax, kern, bw)\n",
    "\n",
    "plt.show()"
   ]
  },
  {
   "cell_type": "markdown",
   "metadata": {},
   "source": [
    "# Particular Kernels"
   ]
  },
  {
   "cell_type": "markdown",
   "metadata": {},
   "source": [
    "## Epanechnikov (Parabola)"
   ]
  },
  {
   "cell_type": "markdown",
   "metadata": {},
   "source": [
    "### Show that the median method is the same as CDF inversion "
   ]
  },
  {
   "cell_type": "code",
   "execution_count": null,
   "metadata": {
    "ExecuteTime": {
     "end_time": "2019-05-29T19:01:58.941710Z",
     "start_time": "2019-05-29T19:01:57.725Z"
    }
   },
   "outputs": [],
   "source": [
    "def draw_invert(size):\n",
    "    xe, xc, dx = kale.utils.bins(-1.0, 1.0, 1000)\n",
    "    yy = kale.kernels.Parabola.evaluate(xc)\n",
    "    cs = np.cumsum(yy*dx)\n",
    "    \n",
    "    xc = np.concatenate([[-1.0], xc, [1.0]])\n",
    "    cs = np.concatenate([[0.0], cs, [1.0]])\n",
    "    \n",
    "    xx = sp.interpolate.interp1d(cs, xc, kind='cubic')(np.random.uniform(0.0, 1.0, size))\n",
    "    return xx\n",
    "\n",
    "def draw_median(size):\n",
    "    xx = np.random.uniform(-1, 1, 3*size).reshape(3, size)\n",
    "    xx = np.median(xx, axis=0)\n",
    "    return xx\n",
    "    "
   ]
  },
  {
   "cell_type": "code",
   "execution_count": null,
   "metadata": {
    "ExecuteTime": {
     "end_time": "2019-05-29T19:01:58.942906Z",
     "start_time": "2019-05-29T19:01:57.728Z"
    }
   },
   "outputs": [],
   "source": [
    "NUM = int(1e4)\n",
    "\n",
    "aa = draw_median(NUM)\n",
    "edges, cents, wids = kale.utils.bins(-1.1, 1.1, 40)\n",
    "\n",
    "hist, _ = np.histogram(aa, edges, density=True)\n",
    "cum_hist = np.cumsum(hist*wids)\n",
    "pdf = kale.kernels.Parabola_Asym.evaluate(cents)\n",
    "cum_pdf = np.cumsum(pdf*wids)\n",
    "\n",
    "test = draw_median(NUM)\n",
    "hist_test, _ = np.histogram(test, edges, density=True)\n",
    "cum_test = np.cumsum(hist_test*wids)\n",
    "\n",
    "plt.plot(cents, hist, 'r-')\n",
    "plt.plot(cents, cum_hist, 'r--')\n",
    "\n",
    "plt.plot(cents, hist_test, 'g-')\n",
    "plt.plot(cents, cum_test, 'g--')\n",
    "\n",
    "plt.plot(cents, pdf, 'b-')\n",
    "plt.plot(cents, cum_pdf, 'b--')"
   ]
  }
 ],
 "metadata": {
  "kernelspec": {
   "display_name": "Python 3",
   "language": "python",
   "name": "python3"
  },
  "language_info": {
   "codemirror_mode": {
    "name": "ipython",
    "version": 3
   },
   "file_extension": ".py",
   "mimetype": "text/x-python",
   "name": "python",
   "nbconvert_exporter": "python",
   "pygments_lexer": "ipython3",
   "version": "3.7.2"
  },
  "toc": {
   "base_numbering": 1,
   "nav_menu": {},
   "number_sections": true,
   "sideBar": true,
   "skip_h1_title": false,
   "title_cell": "Table of Contents",
   "title_sidebar": "Contents",
   "toc_cell": false,
   "toc_position": {
    "height": "calc(100% - 180px)",
    "left": "10px",
    "top": "150px",
    "width": "165px"
   },
   "toc_section_display": true,
   "toc_window_display": true
  }
 },
 "nbformat": 4,
 "nbformat_minor": 2
}
