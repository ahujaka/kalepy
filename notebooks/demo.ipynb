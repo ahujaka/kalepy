{
 "cells": [
  {
   "cell_type": "code",
   "execution_count": null,
   "metadata": {},
   "outputs": [],
   "source": [
    "%reload_ext autoreload\n",
    "%autoreload 2\n",
    "from importlib import reload\n",
    "\n",
    "import matplotlib.pyplot as plt\n",
    "import matplotlib as mpl\n",
    "\n",
    "mpl.rc('font', **{'family': 'serif', 'sans-serif': ['Times'], 'size': 12})\n",
    "mpl.rc('lines', solid_capstyle='round')\n",
    "mpl.rc('mathtext', fontset='cm')\n",
    "mpl.rc('figure', figsize=[8, 4])\n",
    "plt.rc('axes', grid=True)\n",
    "plt.rcParams.update({'grid.alpha': 0.25})\n",
    "\n",
    "# import warnings\n",
    "# warnings.simplefilter(\"error\")"
   ]
  },
  {
   "cell_type": "code",
   "execution_count": null,
   "metadata": {
    "init_cell": true
   },
   "outputs": [
    {
     "data": {
      "text/plain": [
       "<module 'kalepy' from '/Users/lzkelley/Programs/kalepy/kalepy/__init__.py'>"
      ]
     },
     "execution_count": null,
     "metadata": {},
     "output_type": "execute_result"
    }
   ],
   "source": [
    "import kalepy as kale\n",
    "\n",
    "reload(kale.kde)\n",
    "reload(kale.kernels)\n",
    "reload(kale.utils)\n",
    "reload(kale.plot)\n",
    "reload(kale)"
   ]
  },
  {
   "cell_type": "markdown",
   "metadata": {},
   "source": [
    "# demo"
   ]
  },
  {
   "cell_type": "markdown",
   "metadata": {},
   "source": [
    "# Basic Usage"
   ]
  },
  {
   "cell_type": "code",
   "execution_count": null,
   "metadata": {},
   "outputs": [],
   "source": [
    "import numpy as np\n",
    "import matplotlib.pyplot as plt\n",
    "import matplotlib as mpl\n",
    "\n",
    "import kalepy as kale\n",
    "\n",
    "from kalepy.plot import nbshow"
   ]
  },
  {
   "cell_type": "markdown",
   "metadata": {},
   "source": [
    "Generate some random data, and its corresponding distribution function"
   ]
  },
  {
   "cell_type": "code",
   "execution_count": null,
   "metadata": {},
   "outputs": [],
   "source": [
    "NUM = int(1e4)\n",
    "np.random.seed(12345)\n",
    "# Combine data from two different PDFs\n",
    "_d1 = np.random.normal(4.0, 1.0, NUM)\n",
    "_d2 = np.random.lognormal(0, 0.5, size=NUM)\n",
    "data = np.concatenate([_d1, _d2])\n",
    "\n",
    "# Calculate the \"true\" distribution\n",
    "xx = np.linspace(0.0, 7.0, 100)[1:]\n",
    "yy = 0.5*np.exp(-(xx - 4.0)**2/2) / np.sqrt(2*np.pi)\n",
    "yy += 0.5 * np.exp(-np.log(xx)**2/(2*0.5**2)) / (0.5*xx*np.sqrt(2*np.pi))"
   ]
  },
  {
   "cell_type": "markdown",
   "metadata": {},
   "source": [
    "### Plotting Smooth Distributions"
   ]
  },
  {
   "cell_type": "code",
   "execution_count": null,
   "metadata": {},
   "outputs": [],
   "source": [
    "# Reconstruct the probability-density based on the given data points.\n",
    "# If `points` aren't provided then `kalepy` automatically generates them\n",
    "points, density = kale.density(data, probability=True)\n",
    "\n",
    "# Plot the PDF\n",
    "plt.plot(points, density, 'k-', lw=2.0, alpha=0.8, label='KDE')\n",
    "\n",
    "# Plot the \"true\" PDF\n",
    "plt.plot(xx, yy, 'r--', alpha=0.4, lw=3.0, label='truth')\n",
    "\n",
    "# Plot the standard, histogram density estimate\n",
    "plt.hist(data, density=True, histtype='step', lw=2.0, alpha=0.5, label='hist')\n",
    "\n",
    "plt.legend()\n",
    "nbshow()"
   ]
  },
  {
   "cell_type": "markdown",
   "metadata": {},
   "source": [
    "### Constructing statistically similar values"
   ]
  },
  {
   "cell_type": "markdown",
   "metadata": {},
   "source": [
    "Draw a new sample of data-points from the KDE PDF"
   ]
  },
  {
   "cell_type": "code",
   "execution_count": null,
   "metadata": {},
   "outputs": [],
   "source": [
    "# Draw new samples from the KDE reconstructed PDF\n",
    "samples = kale.resample(data)\n",
    "\n",
    "# Plot new samples\n",
    "plt.hist(samples, density=True, alpha=0.5, label='new samples', color='0.65', edgecolor='b')\n",
    "\n",
    "# Plot the KDE reconstructed PDF\n",
    "plt.plot(points, density, 'k-', lw=2.0, alpha=0.8, label='KDE')\n",
    "# Plot the \"true\" PDF\n",
    "plt.plot(xx, yy, 'r--', alpha=0.4, lw=3.0, label='truth')\n",
    "\n",
    "plt.legend()\n",
    "nbshow()"
   ]
  },
  {
   "cell_type": "markdown",
   "metadata": {},
   "source": [
    "### Multivariate Distributions"
   ]
  },
  {
   "cell_type": "code",
   "execution_count": null,
   "metadata": {},
   "outputs": [],
   "source": [
    "# Load some random-ish data\n",
    "# data = kale.utils._random_data_3d_01()\n",
    "data = kale.utils._random_data_3d_02()\n",
    "\n",
    "# Construct a KDE\n",
    "kde = kale.KDE(data)\n",
    "\n",
    "# import kalepy.plot\n",
    "\n",
    "# Build a corner plot using the `kalepy` plotting submodule\n",
    "corner = kale.plot.Corner(kde, figsize=[10, 10])\n",
    "\n",
    "# Data points: red scatter and histograms\n",
    "corner.plot_data(color='red')\n",
    "\n",
    "# KDE reconstructed density-distribution: blue contours and curves\n",
    "corner.plot_kde(color='blue')\n",
    "\n",
    "nbshow()"
   ]
  },
  {
   "cell_type": "markdown",
   "metadata": {},
   "source": [
    "# Fancy Usage"
   ]
  },
  {
   "cell_type": "markdown",
   "metadata": {},
   "source": [
    "## Distribution Functions"
   ]
  },
  {
   "cell_type": "markdown",
   "metadata": {},
   "source": [
    "### Reflecting Boundaries"
   ]
  },
  {
   "cell_type": "markdown",
   "metadata": {},
   "source": [
    "What if the distributions you're trying to capture have edges in them, like in a uniform distribution between two bounds?  Here, the KDE chooses 'reflection' locations based on the extrema of the given data."
   ]
  },
  {
   "cell_type": "code",
   "execution_count": null,
   "metadata": {},
   "outputs": [],
   "source": [
    "# Uniform data (edges at -1 and +1)\n",
    "NDATA = 1e3\n",
    "np.random.seed(54321)\n",
    "data = np.random.uniform(-1.0, 1.0, int(NDATA))\n",
    "\n",
    "# Plot the data\n",
    "kale.plot.carpet(data, label='data')\n",
    "# Histogram the data\n",
    "plt.hist(data, density=True, alpha=0.5, label='histogram', color='0.65', edgecolor='k')\n",
    "\n",
    "# Standard KDE will undershoot just-inside the edges and overshoot outside edges\n",
    "points, pdf_basic = kale.density(data, probability=True)\n",
    "plt.plot(points, pdf_basic, 'r--', lw=3.0, alpha=0.5, label='KDE')\n",
    "\n",
    "# Reflecting KDE keeps probability within given bounds\n",
    "points, pdf_basic = kale.density(data, reflect=True, probability=True)\n",
    "plt.plot(points, pdf_basic, 'b-', lw=2.0, alpha=0.75, label='reflecting KDE')\n",
    "\n",
    "plt.legend()\n",
    "nbshow()"
   ]
  },
  {
   "cell_type": "markdown",
   "metadata": {},
   "source": [
    "Explicit reflection locations can also be provided (in any number of dimensions)."
   ]
  },
  {
   "cell_type": "code",
   "execution_count": null,
   "metadata": {},
   "outputs": [],
   "source": [
    "# Construct random data, add an artificial 'edge'\n",
    "np.random.seed(5142)\n",
    "edge = 1.0\n",
    "data = np.random.lognormal(sigma=0.5, size=int(3e3))\n",
    "data = data[data >= edge]\n",
    "\n",
    "# Histogram the data, use fixed bin-positions\n",
    "edges = np.linspace(edge, 4, 20)\n",
    "plt.hist(data, bins=edges, density=True, alpha=0.5, label='data', color='0.65', edgecolor='k')\n",
    "\n",
    "# Standard KDE with over & under estimates\n",
    "points, pdf_basic = kale.density(data, probability=True)\n",
    "plt.plot(points, pdf_basic, 'r--', lw=4.0, alpha=0.5, label='Basic KDE')\n",
    "\n",
    "# Reflecting KDE setting the lower-boundary to the known value\n",
    "#    There is no upper-boundary when `None` is given.\n",
    "points, pdf_basic = kale.density(data, reflect=[edge, None], probability=True)\n",
    "plt.plot(points, pdf_basic, 'b-', lw=3.0, alpha=0.5, label='Reflecting KDE')\n",
    "\n",
    "plt.gca().set_xlim(edge - 0.5, 3)\n",
    "plt.legend()\n",
    "nbshow()"
   ]
  },
  {
   "cell_type": "markdown",
   "metadata": {},
   "source": [
    "### Multivariate Reflection"
   ]
  },
  {
   "cell_type": "code",
   "execution_count": null,
   "metadata": {},
   "outputs": [],
   "source": [
    "reload(kale.plot)\n",
    "data = kale.utils._random_data_2d_03()\n",
    "\n",
    "# Construct a KDE\n",
    "kde = kale.KDE(data, reflect=[[0, None], [None, 1]])\n",
    "\n",
    "# kale.plot.corner(kde)\n",
    "\n",
    "# Build a corner plot using the `kalepy` plotting submodule\n",
    "# corner = kale.plot.Corner(kde)  #, figsize=[10, 10])\n",
    "\n",
    "# Data points: red scatter and histograms\n",
    "# corner.plot_data(color='red', scatter=dict(s=10, alpha=0.15))\n",
    "# corner.plot(kde=False, data=True, color='red');\n",
    "\n",
    "# KDE reconstructed density-distribution: blue contours and curves\n",
    "# corner.plot(kde=True, data=False, color='blue');\n",
    "\n",
    "corner = kale.plot.Corner(kde)\n",
    "corner.plot_data()\n",
    "# corner.plot(kde=False, data=True, color='red');\n",
    "# corner.plot_data(color='red', dist2d=dict(contour=True, pad=True), scatter=True, sigmas=[0.5, 1, 2])\n",
    "\n",
    "# axes = corner.axes\n",
    "# xlim = None\n",
    "# ylim = None\n",
    "# for ii in range(2):\n",
    "#     xlim = zmath.minmax(axes[ii, 0].get_xlim(), prev=xlim)\n",
    "#     ylim = zmath.minmax(axes[1, ii].get_ylim(), prev=ylim)\n",
    "    \n",
    "# axes[1, 0].set(xlim=xlim, ylim=ylim)\n",
    "# axes[0, 0].set(xlim=xlim)\n",
    "# axes[1, 1].set(ylim=ylim)\n",
    "\n"
   ]
  },
  {
   "cell_type": "markdown",
   "metadata": {},
   "source": [
    "### Specifying Bandwidths and Kernel Functions"
   ]
  },
  {
   "cell_type": "markdown",
   "metadata": {},
   "source": [
    "### Selecting Particular Parameters/Dimensions"
   ]
  },
  {
   "cell_type": "markdown",
   "metadata": {},
   "source": [
    "## Resampling"
   ]
  },
  {
   "cell_type": "markdown",
   "metadata": {},
   "source": [
    "### Use different `weights` of the data"
   ]
  },
  {
   "cell_type": "code",
   "execution_count": null,
   "metadata": {},
   "outputs": [],
   "source": [
    "# Draw some random data (and the PDF, for comparison)\n",
    "data, truth = kale.utils._random_data_1d_01()\n",
    "# Setup plotting parameters\n",
    "kw = dict(density=True, histtype='step', lw=2.0, alpha=0.75, bins='auto')\n",
    "\n",
    "# plot the 'true' distribution\n",
    "plt.plot(*truth, 'k--', alpha=0.25)\n",
    "# plot the sampled data with a carpet plot\n",
    "kale.plot.carpet(data, color='k')\n",
    "\n",
    "# UNIFORM: resample the data uniformly, 600 samples\n",
    "col = 'tab:blue'\n",
    "res = kale.resample(data, size=600)\n",
    "kale.plot.carpet(res, shift=-0.15, color=col)              # `shift` the carpet plot downwards to not overlap\n",
    "plt.hist(res, color=col, label=r'$\\propto 1$', **kw)\n",
    "\n",
    "# SQUARE: resample the data proportional to its square\n",
    "col = 'tab:orange'\n",
    "res = kale.resample(data, weights=data**2, size=1000)\n",
    "kale.plot.carpet(res, shift=-0.25, color=col)\n",
    "plt.hist(res, color=col, label=r'$\\propto X^2$', **kw)\n",
    "\n",
    "# INVERSE: resample the data proportional to its inverse\n",
    "col = 'tab:green'\n",
    "res = kale.resample(data, weights=data**-1, size=1000)\n",
    "kale.plot.carpet(res, shift=-0.35, color=col)\n",
    "plt.hist(res, color=col, label=r'$\\propto X^{-1}$', **kw)\n",
    "\n",
    "# Add legend\n",
    "plt.legend()\n",
    "# display the figure if this is a notebook\n",
    "nbshow()"
   ]
  },
  {
   "cell_type": "markdown",
   "metadata": {},
   "source": [
    "### Resampling while 'keeping' certain parameters/dimensions"
   ]
  }
 ],
 "metadata": {
  "celltoolbar": "Initialization Cell",
  "kernelspec": {
   "display_name": "py38",
   "language": "python",
   "name": "py38"
  },
  "language_info": {
   "codemirror_mode": {
    "name": "ipython",
    "version": 3
   },
   "file_extension": ".py",
   "mimetype": "text/x-python",
   "name": "python",
   "nbconvert_exporter": "python",
   "pygments_lexer": "ipython3",
   "version": "3.8.5"
  },
  "toc": {
   "base_numbering": 1,
   "nav_menu": {},
   "number_sections": true,
   "sideBar": true,
   "skip_h1_title": false,
   "title_cell": "Table of Contents",
   "title_sidebar": "Contents",
   "toc_cell": false,
   "toc_position": {
    "height": "calc(100% - 180px)",
    "left": "10px",
    "top": "150px",
    "width": "165px"
   },
   "toc_section_display": true,
   "toc_window_display": true
  },
  "varInspector": {
   "cols": {
    "lenName": 16,
    "lenType": 16,
    "lenVar": 40
   },
   "kernels_config": {
    "python": {
     "delete_cmd_postfix": "",
     "delete_cmd_prefix": "del ",
     "library": "var_list.py",
     "varRefreshCmd": "print(var_dic_list())"
    },
    "r": {
     "delete_cmd_postfix": ") ",
     "delete_cmd_prefix": "rm(",
     "library": "var_list.r",
     "varRefreshCmd": "cat(var_dic_list()) "
    }
   },
   "types_to_exclude": [
    "module",
    "function",
    "builtin_function_or_method",
    "instance",
    "_Feature"
   ],
   "window_display": false
  }
 },
 "nbformat": 4,
 "nbformat_minor": 2
}
