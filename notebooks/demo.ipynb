{
 "cells": [
  {
   "cell_type": "code",
   "execution_count": null,
   "metadata": {},
   "outputs": [],
   "source": [
    "# NOTE: This is for when the notebook is converted to a python script\n",
    "# NOTE: Must come before everything else\n",
    "def get_ipython():\n",
    "    return type('Dummy', (object,), dict(run_line_magic=lambda *args, **kwargs: None))\n",
    "\n",
    "%reload_ext autoreload\n",
    "%autoreload 2\n",
    "from importlib import reload\n",
    "\n",
    "import matplotlib.pyplot as plt\n",
    "import matplotlib as mpl\n",
    "\n",
    "mpl.rc('font', **{'family': 'serif', 'sans-serif': ['Times'], 'size': 12})\n",
    "mpl.rc('lines', solid_capstyle='round')\n",
    "mpl.rc('mathtext', fontset='cm')\n",
    "mpl.rc('figure', figsize=[8, 4])\n",
    "plt.rc('axes', grid=True)\n",
    "plt.rcParams.update({'grid.alpha': 0.25})\n"
   ]
  },
  {
   "cell_type": "code",
   "execution_count": null,
   "metadata": {
    "init_cell": true
   },
   "outputs": [
    {
     "data": {
      "text/plain": [
       "<module 'kalepy' from '/Users/lzkelley/Programs/kalepy/kalepy/__init__.py'>"
      ]
     },
     "execution_count": null,
     "metadata": {},
     "output_type": "execute_result"
    }
   ],
   "source": [
    "import kalepy as kale\n",
    "\n",
    "reload(kale.kde)\n",
    "reload(kale.kernels)\n",
    "reload(kale.utils)\n",
    "reload(kale.plot)\n",
    "reload(kale)"
   ]
  },
  {
   "cell_type": "markdown",
   "metadata": {},
   "source": [
    "# demo"
   ]
  },
  {
   "cell_type": "markdown",
   "metadata": {},
   "source": [
    "## Basic Usage"
   ]
  },
  {
   "cell_type": "code",
   "execution_count": null,
   "metadata": {},
   "outputs": [],
   "source": [
    "import numpy as np\n",
    "import matplotlib.pyplot as plt\n",
    "import matplotlib as mpl\n",
    "\n",
    "import kalepy as kale\n",
    "\n",
    "from kalepy.plot import nbshow"
   ]
  },
  {
   "cell_type": "markdown",
   "metadata": {},
   "source": [
    "Generate some random data, and its corresponding distribution function"
   ]
  },
  {
   "cell_type": "code",
   "execution_count": null,
   "metadata": {},
   "outputs": [],
   "source": [
    "NUM = int(1e4)\n",
    "np.random.seed(12345)\n",
    "_d1 = np.random.normal(4.0, 1.0, NUM)\n",
    "_d2 = np.random.lognormal(0, 0.5, size=NUM)\n",
    "data = np.concatenate([_d1, _d2])\n",
    "\n",
    "xx = np.linspace(0.0, 7.0, 100)[1:]\n",
    "yy = 0.5*np.exp(-(xx - 4.0)**2/2) / np.sqrt(2*np.pi)\n",
    "yy += 0.5 * np.exp(-np.log(xx)**2/(2*0.5**2)) / (0.5*xx*np.sqrt(2*np.pi))"
   ]
  },
  {
   "cell_type": "markdown",
   "metadata": {},
   "source": [
    "### Plotting Smooth Distributions"
   ]
  },
  {
   "cell_type": "code",
   "execution_count": null,
   "metadata": {},
   "outputs": [],
   "source": [
    "# Reconstruct the probability-density based on the given data points.\n",
    "# If `points` aren't provided then `kalepy` automatically generates them\n",
    "points, density = kale.density(data, probability=True)\n",
    "\n",
    "# Plot the PDF\n",
    "plt.plot(points, density, 'k-', lw=2.0, alpha=0.8, label='KDE')\n",
    "\n",
    "# Plot the \"true\" PDF\n",
    "plt.plot(xx, yy, 'r--', alpha=0.4, lw=3.0, label='truth')\n",
    "\n",
    "# Plot the standard, histogram density estimate\n",
    "plt.hist(data, density=True, histtype='step', lw=2.0, alpha=0.5, label='hist')\n",
    "\n",
    "plt.legend()\n",
    "nbshow()"
   ]
  },
  {
   "cell_type": "markdown",
   "metadata": {},
   "source": [
    "### Constructing statistically similar values"
   ]
  },
  {
   "cell_type": "markdown",
   "metadata": {},
   "source": [
    "Draw a new sample of data-points from the KDE PDF"
   ]
  },
  {
   "cell_type": "code",
   "execution_count": null,
   "metadata": {},
   "outputs": [],
   "source": [
    "# Draw new samples from the KDE reconstructed PDF\n",
    "samples = kale.resample(data)\n",
    "\n",
    "# Plot new samples\n",
    "plt.hist(samples, density=True, alpha=0.5, label='new samples', color='0.65', edgecolor='b')\n",
    "\n",
    "\n",
    "# Plot the KDE reconstructed PDF\n",
    "plt.plot(points, density, 'k-', lw=2.0, alpha=0.8, label='KDE')\n",
    "# Plot the \"true\" PDF\n",
    "plt.plot(xx, yy, 'r--', alpha=0.4, lw=3.0, label='truth')\n",
    "\n",
    "plt.legend()\n",
    "nbshow()"
   ]
  },
  {
   "cell_type": "markdown",
   "metadata": {},
   "source": [
    "### Multivariate Distributions"
   ]
  },
  {
   "cell_type": "code",
   "execution_count": null,
   "metadata": {},
   "outputs": [],
   "source": [
    "# Load some random-ish data\n",
    "# data = kale.utils._random_data_3d_01()\n",
    "data = kale.utils._random_data_3d_02()\n",
    "\n",
    "# Construct a KDE\n",
    "kde = kale.KDE(data)\n",
    "\n",
    "# import kalepy.plot\n",
    "\n",
    "# Build a corner plot using the `kalepy` plotting submodule\n",
    "corner = kale.plot.Corner(kde, figsize=[10, 10])\n",
    "\n",
    "# Data points: red scatter and histograms\n",
    "corner.plot_data(color='red', scatter=dict(s=10, alpha=0.15))\n",
    "\n",
    "# KDE reconstructed density-distribution: blue contours and curves\n",
    "corner.plot_kde(color='blue')\n",
    "\n",
    "nbshow()"
   ]
  },
  {
   "cell_type": "code",
   "execution_count": null,
   "metadata": {},
   "outputs": [],
   "source": [
    "fig, ax = plt.subplots(figsize=[8, 5])\n",
    "\n",
    "kale.plot.hist(data[1], ax=ax, probability=True)\n",
    "kale.plot.draw_carpet(data[1], ax=ax)\n",
    "\n",
    "xx, yy = kde.density(params=1, probability=True)\n",
    "ax.plot(xx, yy, 'b--')\n",
    "\n",
    "xx = kde.points[1]\n",
    "\n",
    "yy = kde.pdf(xx, params=1)[1]\n",
    "ax.plot(xx, yy, 'b-')\n",
    "\n",
    "# yy = kde.pdf(xx, params=1, reflect=[-0.4, None])\n",
    "# ax.plot(xx, yy, 'b--')\n",
    "\n",
    "nbshow()"
   ]
  },
  {
   "cell_type": "markdown",
   "metadata": {},
   "source": [
    "## Fancy Usage"
   ]
  },
  {
   "cell_type": "markdown",
   "metadata": {},
   "source": [
    "### Reflecting Boundaries"
   ]
  },
  {
   "cell_type": "markdown",
   "metadata": {},
   "source": [
    "What if the distributions you're trying to capture have edges in them, like in a uniform distribution between two bounds?  Here, the KDE chooses 'reflection' locations based on the extrema of the given data."
   ]
  },
  {
   "cell_type": "code",
   "execution_count": null,
   "metadata": {},
   "outputs": [],
   "source": [
    "# Uniform data (edges at -1 and +1)\n",
    "np.random.seed(54321)\n",
    "data = np.random.uniform(-1.0, 1.0, int(1e3))\n",
    "\n",
    "# Histogram the data, use fixed bin-positions\n",
    "edges = np.linspace(-1, 1, 12)\n",
    "plt.hist(data, bins=edges, density=True, alpha=0.5, label='data', color='0.65', edgecolor='k')\n",
    "\n",
    "# Standard KDE will undershoot just-inside the edges and overshoot outside edges\n",
    "points, pdf_basic = kale.density(data, probability=True)\n",
    "plt.plot(points, pdf_basic, 'r--', lw=4.0, alpha=0.5, label='Basic KDE')\n",
    "\n",
    "# Reflecting KDE keeps probability within given bounds\n",
    "points, pdf_basic = kale.density(data, reflect=True, probability=True)\n",
    "plt.plot(points, pdf_basic, 'b-', lw=3.0, alpha=0.75, label='Reflecting KDE')\n",
    "\n",
    "plt.legend()\n",
    "nbshow()"
   ]
  },
  {
   "cell_type": "code",
   "execution_count": null,
   "metadata": {},
   "outputs": [],
   "source": [
    "# Uniform data (edges at -1 and +1)\n",
    "NDATA = 1e3\n",
    "np.random.seed(54321)\n",
    "data = np.random.uniform(-1.0, 1.0, int(NDATA))\n",
    "\n",
    "# Plot the data\n",
    "kale.plot.draw_carpet(data, label='data')\n",
    "# Histogram the data\n",
    "plt.hist(data, density=True, alpha=0.5, label='histogram', color='0.65', edgecolor='k')\n",
    "\n",
    "# Standard KDE will undershoot just-inside the edges and overshoot outside edges\n",
    "points, pdf_basic = kale.density(data, probability=True)\n",
    "plt.plot(points, pdf_basic, 'r--', lw=3.0, alpha=0.5, label='KDE')\n",
    "\n",
    "# Reflecting KDE keeps probability within given bounds\n",
    "points, pdf_basic = kale.density(data, reflect=True, probability=True)\n",
    "plt.plot(points, pdf_basic, 'b-', lw=2.0, alpha=0.75, label='reflecting KDE')\n",
    "\n",
    "plt.legend()\n",
    "nbshow()"
   ]
  },
  {
   "cell_type": "markdown",
   "metadata": {},
   "source": [
    "Explicit reflection locations can also be provided (in any number of dimensions)."
   ]
  },
  {
   "cell_type": "code",
   "execution_count": null,
   "metadata": {},
   "outputs": [],
   "source": [
    "# Construct random data, add an artificial 'edge'\n",
    "np.random.seed(5142)\n",
    "edge = 1.0\n",
    "data = np.random.lognormal(sigma=0.5, size=int(3e3))\n",
    "data = data[data >= edge]\n",
    "\n",
    "# Histogram the data, use fixed bin-positions\n",
    "edges = np.linspace(edge, 4, 20)\n",
    "plt.hist(data, bins=edges, density=True, alpha=0.5, label='data', color='0.65', edgecolor='k')\n",
    "\n",
    "# Standard KDE with over & under estimates\n",
    "points, pdf_basic = kale.density(data, probability=True)\n",
    "plt.plot(points, pdf_basic, 'r--', lw=4.0, alpha=0.5, label='Basic KDE')\n",
    "\n",
    "# Reflecting KDE setting the lower-boundary to the known value\n",
    "#    There is no upper-boundary when `None` is given.\n",
    "points, pdf_basic = kale.density(data, reflect=[edge, None], probability=True)\n",
    "plt.plot(points, pdf_basic, 'b-', lw=3.0, alpha=0.5, label='Reflecting KDE')\n",
    "\n",
    "plt.gca().set_xlim(edge - 0.5, 3)\n",
    "plt.legend()\n",
    "nbshow()"
   ]
  },
  {
   "cell_type": "markdown",
   "metadata": {},
   "source": [
    "### Multivariate Reflection"
   ]
  },
  {
   "cell_type": "markdown",
   "metadata": {},
   "source": [
    "### Selecting Particular Parameters/Dimensions"
   ]
  },
  {
   "cell_type": "markdown",
   "metadata": {},
   "source": [
    "### Resampling while 'keeping' certain parameters/dimensions"
   ]
  },
  {
   "cell_type": "markdown",
   "metadata": {},
   "source": [
    "### Cumulative distribution and quartiles (percent-point functions)"
   ]
  }
 ],
 "metadata": {
  "celltoolbar": "Initialization Cell",
  "kernelspec": {
   "display_name": "Python 3",
   "language": "python",
   "name": "python3"
  },
  "language_info": {
   "codemirror_mode": {
    "name": "ipython",
    "version": 3
   },
   "file_extension": ".py",
   "mimetype": "text/x-python",
   "name": "python",
   "nbconvert_exporter": "python",
   "pygments_lexer": "ipython3",
   "version": "3.7.7"
  },
  "toc": {
   "base_numbering": 1,
   "nav_menu": {},
   "number_sections": true,
   "sideBar": true,
   "skip_h1_title": false,
   "title_cell": "Table of Contents",
   "title_sidebar": "Contents",
   "toc_cell": false,
   "toc_position": {
    "height": "calc(100% - 180px)",
    "left": "10px",
    "top": "150px",
    "width": "165px"
   },
   "toc_section_display": true,
   "toc_window_display": true
  },
  "varInspector": {
   "cols": {
    "lenName": 16,
    "lenType": 16,
    "lenVar": 40
   },
   "kernels_config": {
    "python": {
     "delete_cmd_postfix": "",
     "delete_cmd_prefix": "del ",
     "library": "var_list.py",
     "varRefreshCmd": "print(var_dic_list())"
    },
    "r": {
     "delete_cmd_postfix": ") ",
     "delete_cmd_prefix": "rm(",
     "library": "var_list.r",
     "varRefreshCmd": "cat(var_dic_list()) "
    }
   },
   "types_to_exclude": [
    "module",
    "function",
    "builtin_function_or_method",
    "instance",
    "_Feature"
   ],
   "window_display": false
  }
 },
 "nbformat": 4,
 "nbformat_minor": 2
}
