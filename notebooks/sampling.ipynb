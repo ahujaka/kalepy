{
 "cells": [
  {
   "cell_type": "code",
   "execution_count": null,
   "id": "0a6b1c99",
   "metadata": {},
   "outputs": [],
   "source": [
    "# %load ./init.ipy\n",
    "%reload_ext autoreload\n",
    "%autoreload 2\n",
    "\n",
    "# %load init.ipy\n",
    "import os, sys, logging, datetime, warnings, shutil\n",
    "from importlib import reload\n",
    "\n",
    "import numpy as np\n",
    "import scipy as sp\n",
    "import scipy.stats\n",
    "import matplotlib as mpl\n",
    "import matplotlib.pyplot as plt\n",
    "from nose import tools\n",
    "\n",
    "import kalepy as kale\n",
    "import kalepy.utils\n",
    "import kalepy.plot\n",
    "import kalepy.sample\n",
    "\n",
    "# The `nbshow` command runs `plt.show()` in interactive jupyter notebooks, but closes\n",
    "#   figures when run from the command-line (notebooks are converted to scripts and run as tests)\n",
    "from kalepy.plot import nbshow\n",
    "\n",
    "import warnings\n",
    "# warnings.simplefilter(\"error\")   # WARNING: this is breaking jupyter at the moment (2021-02-14)"
   ]
  },
  {
   "cell_type": "code",
   "execution_count": null,
   "id": "4de576a6",
   "metadata": {},
   "outputs": [],
   "source": [
    "import zcode.plot as zplot\n",
    "import zcode.math as zmath"
   ]
  },
  {
   "cell_type": "code",
   "execution_count": null,
   "id": "ef07a3ff",
   "metadata": {},
   "outputs": [],
   "source": [
    "def draw_test(xx, yy, data):\n",
    "    fig, axes = plt.subplots(figsize=[12, 4], ncols=2)\n",
    "\n",
    "    for ii, ax in enumerate(axes):\n",
    "        interp = bool(ii)\n",
    "        vals = kale.sample.sample_grid([xx, yy], data, 2000, interpolate=interp)\n",
    "        ax.set_title(f\"{interp=}\")\n",
    "        ax.scatter(*vals, color='pink', s=10, zorder=20, alpha=0.3)\n",
    "        ax.hist2d(*vals, bins=10)\n",
    "\n",
    "    return fig"
   ]
  },
  {
   "cell_type": "code",
   "execution_count": null,
   "id": "41186689",
   "metadata": {},
   "outputs": [],
   "source": [
    "xx = [0.0, 1.0, 2.0]\n",
    "yy = [100.0, 200.0, 300.0]\n",
    "\n",
    "edge = [\n",
    "    [30.0, 10.0, 0.0],\n",
    "    [10.0, 20.0, 10.0],\n",
    "    [0.0, 10.0, 0.0]\n",
    "]\n",
    "\n",
    "draw_test(xx, yy, edge)\n",
    "\n",
    "plt.show()"
   ]
  },
  {
   "cell_type": "code",
   "execution_count": null,
   "id": "192aa5b9",
   "metadata": {},
   "outputs": [],
   "source": [
    "xx = [0.0, 1.0, 2.0]\n",
    "yy = [100.0, 200.0, 300.0]\n",
    "\n",
    "edge = [\n",
    "    [10.0, 0.0, 10.0],\n",
    "    [ 0.0, 0.0,  0.0],\n",
    "    [10.0, 0.0, 10.0]\n",
    "]\n",
    "\n",
    "draw_test(xx, yy, edge)\n",
    "plt.show()"
   ]
  },
  {
   "cell_type": "code",
   "execution_count": null,
   "id": "5daf6921",
   "metadata": {},
   "outputs": [],
   "source": [
    "xx = [0.0, 1.0, 2.0, 3.0, 4.0, 5.0]\n",
    "yy = [100.0, 200.0, 300.0]\n",
    "\n",
    "edge = [\n",
    "    [10.0, 0.0, 10.0],\n",
    "    [10.0, 0.0, 10.0],\n",
    "    [10.0, 0.0, 10.0],\n",
    "    [10.0, 0.0, 10.0],\n",
    "    [10.0, 0.0, 10.0],\n",
    "    [10.0, 0.0, 10.0]\n",
    "]\n",
    "\n",
    "draw_test(xx, yy, edge)\n",
    "plt.show()"
   ]
  },
  {
   "cell_type": "code",
   "execution_count": null,
   "id": "3dfd5d52",
   "metadata": {},
   "outputs": [],
   "source": []
  },
  {
   "cell_type": "code",
   "execution_count": null,
   "id": "dd9b32f0",
   "metadata": {},
   "outputs": [],
   "source": []
  },
  {
   "cell_type": "code",
   "execution_count": null,
   "id": "f382d1cd",
   "metadata": {},
   "outputs": [],
   "source": []
  },
  {
   "cell_type": "code",
   "execution_count": null,
   "id": "65f8b661",
   "metadata": {},
   "outputs": [],
   "source": [
    "def func(x, y, z):\n",
    "    rv = (x + y - 2*z)**2 + x**2 + y**2 + z**2\n",
    "    rv = 3 * np.exp(-rv / 2.0)\n",
    "    return rv\n",
    "\n",
    "xx = np.linspace(-4, 4, 200)\n",
    "yy = np.linspace(-4, 4, 300)\n",
    "zz = np.linspace(-1, 1, 5)\n",
    "\n",
    "data = func(xx[:, np.newaxis, np.newaxis], yy[np.newaxis, :, np.newaxis], zz[np.newaxis, np.newaxis, :]) \n",
    "\n",
    "smap = zplot.smap(data, scale='linear')\n",
    "\n",
    "for ii, _ in enumerate(zz):\n",
    "    fig, ax = plt.subplots()\n",
    "    aa = data[:, :, ii]\n",
    "    plt.pcolormesh(xx, yy, aa.T, cmap=smap.cmap, norm=smap.norm)\n",
    "    \n",
    "plt.show()\n",
    "    "
   ]
  },
  {
   "cell_type": "code",
   "execution_count": null,
   "id": "a867ee6b",
   "metadata": {},
   "outputs": [],
   "source": [
    "vals = kale.sample.sample_grid([xx, yy, zz], data, 2000)"
   ]
  },
  {
   "cell_type": "code",
   "execution_count": null,
   "id": "4253cd20",
   "metadata": {},
   "outputs": [],
   "source": [
    "smap = zplot.smap(data_edge, scale='lin')\n",
    "\n",
    "keys = zmath.argnearest(zz, vals[2])\n",
    "for ii in range(zz.size):\n",
    "    idx = (keys == ii)\n",
    "        \n",
    "    fig, ax = plt.subplots()\n",
    "    plt.pcolormesh(xx, yy, data[:, :, ii].T, cmap=smap.cmap, norm=smap.norm)\n",
    "    uu = vals[0][idx]\n",
    "    vv = vals[1][idx]\n",
    "    plt.scatter(uu, vv, facecolor='pink', edgecolor='0.25', alpha=0.7, s=20, zorder=100)\n",
    "\n",
    "plt.show()"
   ]
  },
  {
   "cell_type": "code",
   "execution_count": null,
   "id": "65c0d4cf",
   "metadata": {},
   "outputs": [],
   "source": []
  },
  {
   "cell_type": "code",
   "execution_count": null,
   "id": "57d7370e",
   "metadata": {},
   "outputs": [],
   "source": []
  },
  {
   "cell_type": "code",
   "execution_count": null,
   "id": "1028c4cc",
   "metadata": {},
   "outputs": [],
   "source": []
  },
  {
   "cell_type": "code",
   "execution_count": null,
   "id": "c4b92939",
   "metadata": {},
   "outputs": [],
   "source": []
  },
  {
   "cell_type": "code",
   "execution_count": null,
   "id": "f7e3f873",
   "metadata": {},
   "outputs": [],
   "source": []
  },
  {
   "cell_type": "code",
   "execution_count": null,
   "id": "0bb4f906",
   "metadata": {},
   "outputs": [],
   "source": []
  },
  {
   "cell_type": "code",
   "execution_count": null,
   "id": "5ef1b181",
   "metadata": {},
   "outputs": [],
   "source": []
  },
  {
   "cell_type": "code",
   "execution_count": null,
   "id": "256334ce",
   "metadata": {},
   "outputs": [],
   "source": []
  },
  {
   "cell_type": "code",
   "execution_count": null,
   "id": "2aa1ccd8",
   "metadata": {},
   "outputs": [],
   "source": []
  },
  {
   "cell_type": "code",
   "execution_count": null,
   "id": "15bfbbd7",
   "metadata": {},
   "outputs": [],
   "source": []
  },
  {
   "cell_type": "code",
   "execution_count": null,
   "id": "5fa27462",
   "metadata": {},
   "outputs": [],
   "source": [
    "kale.corner(kale.utils._random_data_3d_01())"
   ]
  }
 ],
 "metadata": {
  "kernelspec": {
   "display_name": "py38",
   "language": "python",
   "name": "py38"
  },
  "language_info": {
   "codemirror_mode": {
    "name": "ipython",
    "version": 3
   },
   "file_extension": ".py",
   "mimetype": "text/x-python",
   "name": "python",
   "nbconvert_exporter": "python",
   "pygments_lexer": "ipython3",
   "version": "3.8.10"
  },
  "toc": {
   "base_numbering": 1,
   "nav_menu": {},
   "number_sections": true,
   "sideBar": true,
   "skip_h1_title": false,
   "title_cell": "Table of Contents",
   "title_sidebar": "Contents",
   "toc_cell": false,
   "toc_position": {},
   "toc_section_display": true,
   "toc_window_display": true
  },
  "varInspector": {
   "cols": {
    "lenName": 16,
    "lenType": 16,
    "lenVar": 40
   },
   "kernels_config": {
    "python": {
     "delete_cmd_postfix": "",
     "delete_cmd_prefix": "del ",
     "library": "var_list.py",
     "varRefreshCmd": "print(var_dic_list())"
    },
    "r": {
     "delete_cmd_postfix": ") ",
     "delete_cmd_prefix": "rm(",
     "library": "var_list.r",
     "varRefreshCmd": "cat(var_dic_list()) "
    }
   },
   "types_to_exclude": [
    "module",
    "function",
    "builtin_function_or_method",
    "instance",
    "_Feature"
   ],
   "window_display": false
  }
 },
 "nbformat": 4,
 "nbformat_minor": 5
}
