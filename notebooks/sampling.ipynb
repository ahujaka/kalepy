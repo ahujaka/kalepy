{
 "cells": [
  {
   "cell_type": "code",
   "execution_count": null,
   "id": "3c183f50",
   "metadata": {},
   "outputs": [],
   "source": [
    "# %load ./init.ipy\n",
    "%reload_ext autoreload\n",
    "%autoreload 2\n",
    "\n",
    "# %load init.ipy\n",
    "import os, sys, logging, datetime, warnings, shutil\n",
    "from importlib import reload\n",
    "\n",
    "import numpy as np\n",
    "import scipy as sp\n",
    "import scipy.stats\n",
    "import matplotlib as mpl\n",
    "import matplotlib.pyplot as plt\n",
    "from nose import tools\n",
    "\n",
    "import kalepy as kale\n",
    "import kalepy.utils\n",
    "import kalepy.plot\n",
    "import kalepy.sample\n",
    "\n",
    "# The `nbshow` command runs `plt.show()` in interactive jupyter notebooks, but closes\n",
    "#   figures when run from the command-line (notebooks are converted to scripts and run as tests)\n",
    "from kalepy.plot import nbshow\n",
    "\n",
    "import warnings\n",
    "# warnings.simplefilter(\"error\")   # WARNING: this is breaking jupyter at the moment (2021-02-14)"
   ]
  },
  {
   "cell_type": "code",
   "execution_count": null,
   "id": "7b934a11",
   "metadata": {},
   "outputs": [],
   "source": [
    "# import zcode.plot as zplot\n",
    "# import zcode.math as zmath"
   ]
  },
  {
   "cell_type": "code",
   "execution_count": null,
   "id": "10cc88f5",
   "metadata": {},
   "outputs": [],
   "source": [
    "def draw_test(xx, yy, data):\n",
    "    fig, axes = plt.subplots(figsize=[12, 4], ncols=2)\n",
    "\n",
    "    for ii, ax in enumerate(axes):\n",
    "        interp = bool(ii)\n",
    "        vals = kale.sample.sample_grid([xx, yy], data, 2000, interpolate=interp)\n",
    "        ax.set_title(f\"{interp=}\")\n",
    "        ax.scatter(*vals, color='pink', s=10, zorder=20, alpha=0.3)\n",
    "        ax.hist2d(*vals, bins=10)\n",
    "\n",
    "    return fig, vals"
   ]
  },
  {
   "cell_type": "markdown",
   "id": "203b9d24",
   "metadata": {},
   "source": [
    "# Test 1"
   ]
  },
  {
   "cell_type": "code",
   "execution_count": null,
   "id": "cd8fc68a",
   "metadata": {},
   "outputs": [],
   "source": [
    "xx = [0.0, 1.0, 2.0]\n",
    "yy = [100.0, 200.0, 300.0]\n",
    "\n",
    "edge = [\n",
    "    [0.0, 10.0, 0.0],\n",
    "    [10.0, 20.0, 10.0],\n",
    "    [0.0, 10.0, 0.0]\n",
    "]\n",
    "\n",
    "fig, vals = draw_test(xx, yy, edge)\n",
    "\n",
    "plt.show()"
   ]
  },
  {
   "cell_type": "markdown",
   "id": "df8c7be7",
   "metadata": {},
   "source": [
    "## Compare 1/4ths"
   ]
  },
  {
   "cell_type": "code",
   "execution_count": null,
   "id": "0c861e88",
   "metadata": {},
   "outputs": [],
   "source": [
    "# ---- Make sure quadrants are evenly sampled\n",
    "quads, *_ = np.histogram2d(*vals, bins=(xx, yy))\n",
    "\n",
    "tot = quads.sum()\n",
    "# fraction in each quadrant\n",
    "frac = quads / tot\n",
    "print(\"frac = \", frac.flatten())\n",
    "# expected poisson error\n",
    "err = 1.0 / np.sqrt(tot / 4.0)\n",
    "err *= 2.0   # padding\n",
    "extr = 0.25 * np.array([1.0 - err, 1.0 + err])\n",
    "print(\"exp = \", 1.0/4.0, \" +- \", err, \"==>\", extr)\n",
    "# Make sure each quadrant is roughly equal\n",
    "if np.any((frac < extr[0]) | (frac > extr[1])):\n",
    "    raise ValueError(\"Uneven distribution of points!\")"
   ]
  },
  {
   "cell_type": "markdown",
   "id": "e9307af5",
   "metadata": {},
   "source": [
    "## Compare 1/16ths"
   ]
  },
  {
   "cell_type": "code",
   "execution_count": null,
   "id": "34e5a98f",
   "metadata": {},
   "outputs": [],
   "source": [
    "edges = [np.sort(np.concatenate([kale.utils.midpoints(ee), ee])) for ee in [xx, yy]]\n",
    "octs, *_ = np.histogram2d(*vals, bins=edges)\n",
    "\n",
    "tot = octs.sum()\n",
    "frac = octs / tot\n",
    "ave = tot / octs.size\n",
    "err = np.sqrt(ave)\n",
    "extr = [ave - err, ave + err]\n",
    "extr = np.array(extr) / tot\n",
    "print(f\"{ave=}, {err=}, {extr=}\")\n",
    "\n",
    "print(\"frac=\\n\", frac)\n",
    "corners = np.ix_([0, 3], [0, 3])\n",
    "corners = frac[corners].flatten()\n",
    "print(\"corners=\\n\", corners)\n",
    "\n",
    "centers = np.ix_([1, 2], [1, 2])\n",
    "centers = frac[centers].flatten()\n",
    "print(\"centers=\\n\", centers)\n",
    "\n",
    "diags_h = np.ix_([1, 2], [0, 3])\n",
    "diags_h = frac[diags_h]\n",
    "diags_v = np.ix_([0, 3], [1, 2])\n",
    "diags_v = frac[diags_v]\n",
    "diags = np.concatenate([diags_h, diags_v]).flatten()\n",
    "print(\"diags=\\n\", diags)\n",
    "\n",
    "if not np.all(diags[:, np.newaxis] < centers[np.newaxis, :]):\n",
    "    err = \"diagonal values are not all smaller than center values!\"\n",
    "    raise ValueError(err)\n",
    "    \n",
    "if not np.all(corners[:, np.newaxis] < diags[np.newaxis, :]):\n",
    "    err = \"corner values are not all smaller than diagonal values!\"\n",
    "    raise ValueError(err)\n",
    "    \n",
    "if np.any((diags > 0.06) | (diags < 0.03)):\n",
    "    raise ValueError(\"diagonals are out of bounds!\")\n",
    "    \n",
    "if np.any((centers > 0.16) | (0.11 > centers)):\n",
    "    raise ValueError(\"centers are out of bounds!\")\n",
    "    \n",
    "if np.any((corners > 0.025) | (corners < 0.008)):\n",
    "    raise ValueError(\"corners are out of bounds!\")"
   ]
  },
  {
   "cell_type": "markdown",
   "id": "9fe62898",
   "metadata": {},
   "source": [
    "# Test 2"
   ]
  },
  {
   "cell_type": "code",
   "execution_count": null,
   "id": "32d69005",
   "metadata": {},
   "outputs": [],
   "source": [
    "xx = [0.0, 1.0, 2.0]\n",
    "yy = [100.0, 200.0, 300.0]\n",
    "\n",
    "edge = [\n",
    "    [10.0, 0.0, 10.0],\n",
    "    [ 0.0, 0.0,  0.0],\n",
    "    [10.0, 0.0, 10.0]\n",
    "]\n",
    "\n",
    "fig, vals = draw_test(xx, yy, edge)\n",
    "plt.show()"
   ]
  },
  {
   "cell_type": "markdown",
   "id": "754ed377",
   "metadata": {},
   "source": [
    "## Compare 1/4ths"
   ]
  },
  {
   "cell_type": "code",
   "execution_count": null,
   "id": "25977235",
   "metadata": {},
   "outputs": [],
   "source": [
    "# ---- Make sure quadrants are evenly sampled\n",
    "quads, *_ = np.histogram2d(*vals, bins=(xx, yy))\n",
    "\n",
    "tot = quads.sum()\n",
    "# fraction in each quadrant\n",
    "frac = quads / tot\n",
    "print(\"frac = \", frac.flatten())\n",
    "# expected poisson error\n",
    "err = 1.0 / np.sqrt(tot / 4.0)\n",
    "err *= 2.0   # padding\n",
    "extr = 0.25 * np.array([1.0 - err, 1.0 + err])\n",
    "print(\"exp = \", 1.0/4.0, \" +- \", err, \"==>\", extr)\n",
    "# Make sure each quadrant is roughly equal\n",
    "if np.any((frac < extr[0]) | (frac > extr[1])):\n",
    "    raise ValueError(\"Uneven distribution of points!\")"
   ]
  },
  {
   "cell_type": "markdown",
   "id": "ffa83784",
   "metadata": {},
   "source": [
    "## Compare 1/16ths"
   ]
  },
  {
   "cell_type": "code",
   "execution_count": null,
   "id": "841a018c",
   "metadata": {},
   "outputs": [],
   "source": [
    "edges = [np.sort(np.concatenate([kale.utils.midpoints(ee), ee])) for ee in [xx, yy]]\n",
    "octs, *_ = np.histogram2d(*vals, bins=edges)\n",
    "\n",
    "tot = octs.sum()\n",
    "frac = octs / tot\n",
    "ave = tot / octs.size\n",
    "err = np.sqrt(ave)\n",
    "extr = [ave - err, ave + err]\n",
    "extr = np.array(extr) / tot\n",
    "print(f\"{ave=}, {err=}, {extr=}\")\n",
    "\n",
    "print(\"frac=\\n\", frac)\n",
    "corners = np.ix_([0, 3], [0, 3])\n",
    "corners = frac[corners].flatten()\n",
    "print(\"corners=\\n\", corners)\n",
    "\n",
    "centers = np.ix_([1, 2], [1, 2])\n",
    "centers = frac[centers].flatten()\n",
    "print(\"centers=\\n\", centers)\n",
    "\n",
    "diags_h = np.ix_([1, 2], [0, 3])\n",
    "diags_h = frac[diags_h]\n",
    "diags_v = np.ix_([0, 3], [1, 2])\n",
    "diags_v = frac[diags_v]\n",
    "diags = np.concatenate([diags_h, diags_v]).flatten()\n",
    "print(\"diags=\\n\", diags)\n",
    "\n",
    "if not np.all(corners[:, np.newaxis] > diags[np.newaxis, :]):\n",
    "    err = \"corner values are not all larger than diagonal values!\"\n",
    "    raise ValueError(err)\n",
    "    \n",
    "if not np.all(diags[:, np.newaxis] > centers[np.newaxis, :]):\n",
    "    err = \"diagonal values are not all larger than center values!\"\n",
    "    raise ValueError(err)\n",
    "    \n",
    "if np.any((diags > 0.06) | (diags < 0.03)):\n",
    "    raise ValueError(\"diagonals are out of bounds!\")\n",
    "    \n",
    "if np.any((corners > 0.16) | (corners < 0.11)):\n",
    "    raise ValueError(\"centers are out of bounds!\")\n",
    "    \n",
    "if np.any((centers > 0.02) | (centers < 0.008)):\n",
    "    raise ValueError(\"corners are out of bounds!\")"
   ]
  },
  {
   "cell_type": "markdown",
   "id": "ebe1ca9d",
   "metadata": {},
   "source": [
    "# Test 3"
   ]
  },
  {
   "cell_type": "code",
   "execution_count": null,
   "id": "0a861be8",
   "metadata": {},
   "outputs": [],
   "source": [
    "xx = [0.0, 1.0, 2.0, 3.0]\n",
    "yy = [100.0, 200.0, 300.0]\n",
    "\n",
    "edge = [\n",
    "    [10.0, 0.0, 10.0],\n",
    "    [10.0, 0.0, 10.0],\n",
    "    [10.0, 0.0, 10.0],\n",
    "    [10.0, 0.0, 10.0],\n",
    "]\n",
    "\n",
    "fig, vals = draw_test(xx, yy, edge)\n",
    "plt.show()"
   ]
  },
  {
   "cell_type": "code",
   "execution_count": null,
   "id": "596541b8",
   "metadata": {},
   "outputs": [],
   "source": [
    "hist, *_ = np.histogram2d(*vals, bins=(3, 3))\n",
    "tot = hist.sum()\n",
    "frac = hist / tot\n",
    "ave = tot / hist.size\n",
    "err = np.sqrt(ave)\n",
    "print(f\"{ave=} {err=}\")\n",
    "print(\"frac=\\n\", frac)\n",
    "\n",
    "rows = np.mean(frac, axis=0)\n",
    "print(\"rows=\", rows)\n",
    "\n",
    "df = np.fabs(rows[-1] - rows[0])\n",
    "print(\"df=\", df)\n",
    "if df > 0.015:\n",
    "    raise ValueError(\"Edge rows do not match!\")\n",
    "\n",
    "if (rows[0] < 0.14) or (rows[0] > 0.16):\n",
    "    raise ValueError(\"edge rows are out of bounds!\")\n",
    "    \n",
    "if (rows[1] < 0.03) or (rows[1] > 0.05):\n",
    "    raise ValueError(\"middle row is out of bounds!\")\n",
    "\n",
    "    \n",
    "cols = np.mean(frac, axis=1)\n",
    "print(\"cols=\", cols)\n",
    "df = np.fabs(cols[:, np.newaxis] - cols[np.newaxis, :]).max()\n",
    "print(\"max diff=\", df)\n",
    "if df > 0.02:\n",
    "    raise ValueError(\"columns are inconsistent!\")\n",
    "\n",
    "if (cols[0] < 0.095) or (cols[0] > 0.125):\n",
    "    raise ValueError(\"columns are out of bounds!\")"
   ]
  },
  {
   "cell_type": "code",
   "execution_count": null,
   "id": "5e27a156",
   "metadata": {},
   "outputs": [],
   "source": []
  },
  {
   "cell_type": "code",
   "execution_count": null,
   "id": "4a48110f",
   "metadata": {},
   "outputs": [],
   "source": []
  },
  {
   "cell_type": "code",
   "execution_count": null,
   "id": "03c623c8",
   "metadata": {},
   "outputs": [],
   "source": []
  },
  {
   "cell_type": "code",
   "execution_count": null,
   "id": "3dd4656f",
   "metadata": {},
   "outputs": [],
   "source": []
  },
  {
   "cell_type": "code",
   "execution_count": null,
   "id": "c8622445",
   "metadata": {},
   "outputs": [],
   "source": []
  },
  {
   "cell_type": "markdown",
   "id": "3f1b3613",
   "metadata": {},
   "source": [
    "# Visual : test 3D function"
   ]
  },
  {
   "cell_type": "code",
   "execution_count": null,
   "id": "3cc9b2ab",
   "metadata": {},
   "outputs": [],
   "source": [
    "def func(x, y, z):\n",
    "    rv = (x + y - 2*z)**2 + x**2 + y**2 + z**2\n",
    "    rv = 3 * np.exp(-rv / 2.0)\n",
    "    return rv\n",
    "\n",
    "xx = np.linspace(-4, 4, 200)\n",
    "yy = np.linspace(-4, 4, 300)\n",
    "zz = np.linspace(-1, 1, 5)\n",
    "\n",
    "data = func(xx[:, np.newaxis, np.newaxis], yy[np.newaxis, :, np.newaxis], zz[np.newaxis, np.newaxis, :]) \n",
    "vals = kale.sample.sample_grid([xx, yy, zz], data, 2000)\n",
    "\n",
    "# smap = zplot.smap(data, scale='linear')\n",
    "\n",
    "# for ii, _ in enumerate(zz):\n",
    "#     fig, ax = plt.subplots()\n",
    "#     aa = data[:, :, ii]\n",
    "#     plt.pcolormesh(xx, yy, aa.T, cmap=smap.cmap, norm=smap.norm)\n",
    "    \n",
    "# plt.show()\n",
    "    "
   ]
  },
  {
   "cell_type": "code",
   "execution_count": null,
   "id": "648fee7e",
   "metadata": {},
   "outputs": [],
   "source": [
    "# smap = zplot.smap(data_edge, scale='lin')\n",
    "extr = kale.utils.minmax(data)\n",
    "norm = mpl.colors.Normalize(*extr)\n",
    "\n",
    "# add an offset so that the last 'bin' is also matched\n",
    "off = np.diff(zz)[0]*0.5\n",
    "keys = np.searchsorted(zz, vals[2] + off) - 1\n",
    "for ii in range(zz.size):\n",
    "    idx = (keys == ii)\n",
    "        \n",
    "    fig, ax = plt.subplots()\n",
    "    plt.pcolormesh(xx, yy, data[:, :, ii].T, norm=norm, shading='auto')\n",
    "    uu = vals[0][idx]\n",
    "    vv = vals[1][idx]\n",
    "    plt.scatter(uu, vv, facecolor='pink', edgecolor='0.25', alpha=0.7, s=20, zorder=100)\n",
    "\n",
    "plt.show()"
   ]
  },
  {
   "cell_type": "markdown",
   "id": "96f45674",
   "metadata": {},
   "source": [
    "# Visual : test 3D random data"
   ]
  },
  {
   "cell_type": "code",
   "execution_count": null,
   "id": "6f7d7a85",
   "metadata": {},
   "outputs": [],
   "source": [
    "data = kale.utils._random_data_3d_01()\n",
    "data = data[:, ::10]"
   ]
  },
  {
   "cell_type": "code",
   "execution_count": null,
   "id": "54e62167",
   "metadata": {},
   "outputs": [],
   "source": [
    "kde = kale.KDE(data)\n",
    "edges, values = kde.density()\n",
    "print([len(ee) for ee in edges], np.shape(values))"
   ]
  },
  {
   "cell_type": "code",
   "execution_count": null,
   "id": "b21f5b77",
   "metadata": {},
   "outputs": [],
   "source": [
    "nsamp = 1000\n",
    "samples = kale.sample.sample_grid(edges, values, nsamp)"
   ]
  },
  {
   "cell_type": "code",
   "execution_count": null,
   "id": "340354b3",
   "metadata": {},
   "outputs": [],
   "source": [
    "corner = kale.Corner(kde)\n",
    "corner.plot_kde()\n",
    "corner.plot_data(samples, color='r')\n",
    "\n",
    "plt.show()"
   ]
  }
 ],
 "metadata": {
  "kernelspec": {
   "display_name": "py38",
   "language": "python",
   "name": "py38"
  },
  "language_info": {
   "codemirror_mode": {
    "name": "ipython",
    "version": 3
   },
   "file_extension": ".py",
   "mimetype": "text/x-python",
   "name": "python",
   "nbconvert_exporter": "python",
   "pygments_lexer": "ipython3",
   "version": "3.8.10"
  },
  "toc": {
   "base_numbering": 1,
   "nav_menu": {},
   "number_sections": true,
   "sideBar": true,
   "skip_h1_title": false,
   "title_cell": "Table of Contents",
   "title_sidebar": "Contents",
   "toc_cell": false,
   "toc_position": {},
   "toc_section_display": true,
   "toc_window_display": true
  },
  "varInspector": {
   "cols": {
    "lenName": 16,
    "lenType": 16,
    "lenVar": 40
   },
   "kernels_config": {
    "python": {
     "delete_cmd_postfix": "",
     "delete_cmd_prefix": "del ",
     "library": "var_list.py",
     "varRefreshCmd": "print(var_dic_list())"
    },
    "r": {
     "delete_cmd_postfix": ") ",
     "delete_cmd_prefix": "rm(",
     "library": "var_list.r",
     "varRefreshCmd": "cat(var_dic_list()) "
    }
   },
   "types_to_exclude": [
    "module",
    "function",
    "builtin_function_or_method",
    "instance",
    "_Feature"
   ],
   "window_display": false
  }
 },
 "nbformat": 4,
 "nbformat_minor": 5
}
